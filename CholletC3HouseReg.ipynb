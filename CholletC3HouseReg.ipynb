{
  "nbformat": 4,
  "nbformat_minor": 0,
  "metadata": {
    "colab": {
      "name": "CholletC3HouseReg.ipynb",
      "version": "0.3.2",
      "provenance": [],
      "include_colab_link": true
    },
    "kernelspec": {
      "name": "python3",
      "display_name": "Python 3"
    },
    "accelerator": "GPU"
  },
  "cells": [
    {
      "cell_type": "markdown",
      "metadata": {
        "id": "view-in-github",
        "colab_type": "text"
      },
      "source": [
        "<a href=\"https://colab.research.google.com/github/sgywhetstone/CholletDLWorkbooks/blob/master/CholletC3HouseReg.ipynb\" target=\"_parent\"><img src=\"https://colab.research.google.com/assets/colab-badge.svg\" alt=\"Open In Colab\"/></a>"
      ]
    },
    {
      "cell_type": "markdown",
      "metadata": {
        "id": "8ewvdwRANi1I",
        "colab_type": "text"
      },
      "source": [
        "Simple regression model from Chollet C3.6. Trained on a small dataset (506, 404 training, 102 test)"
      ]
    },
    {
      "cell_type": "code",
      "metadata": {
        "id": "D-lLIiQcNsrg",
        "colab_type": "code",
        "colab": {}
      },
      "source": [
        "#Variables\n",
        "num_k_fold = 4\n",
        "num_epochs = 500"
      ],
      "execution_count": 0,
      "outputs": []
    },
    {
      "cell_type": "code",
      "metadata": {
        "id": "eZ_bb1jzNsqT",
        "colab_type": "code",
        "colab": {
          "base_uri": "https://localhost:8080/",
          "height": 68
        },
        "outputId": "a69a64f2-cc8c-417d-870c-d067202dbc94"
      },
      "source": [
        "#Import datasets\n",
        "from keras.datasets import boston_housing\n",
        "\n",
        "(train_data, train_targets), (test_data, test_targets) = boston_housing.load_data()"
      ],
      "execution_count": 2,
      "outputs": [
        {
          "output_type": "stream",
          "text": [
            "Using TensorFlow backend.\n"
          ],
          "name": "stderr"
        },
        {
          "output_type": "stream",
          "text": [
            "Downloading data from https://s3.amazonaws.com/keras-datasets/boston_housing.npz\n",
            "57344/57026 [==============================] - 0s 1us/step\n"
          ],
          "name": "stdout"
        }
      ]
    },
    {
      "cell_type": "code",
      "metadata": {
        "id": "tP85msQLN5QZ",
        "colab_type": "code",
        "colab": {}
      },
      "source": [
        "#Normalizing the data\n",
        "mean = train_data.mean(axis=0)\n",
        "train_data -= mean\n",
        "std = train_data.std(axis=0)\n",
        "train_data /= std"
      ],
      "execution_count": 0,
      "outputs": []
    },
    {
      "cell_type": "code",
      "metadata": {
        "id": "e38A97aoOBnH",
        "colab_type": "code",
        "colab": {}
      },
      "source": [
        "#Build network\n",
        "from keras import models\n",
        "from keras import layers\n",
        "\n",
        "def build_model():\n",
        "  model = models.Sequential()\n",
        "  model.add(layers.Dense(64, activation = 'relu',\n",
        "                        input_shape= (train_data.shape[1],)))\n",
        "  model.add(layers.Dense(64, activation = 'relu'))\n",
        "  model.add(layers.Dense(1))\n",
        "  model.compile(optimizer='rmsprop', loss='mse', metrics=['mae'])\n",
        "  return model"
      ],
      "execution_count": 0,
      "outputs": []
    },
    {
      "cell_type": "code",
      "metadata": {
        "id": "7WH_164MOSOs",
        "colab_type": "code",
        "colab": {
          "base_uri": "https://localhost:8080/",
          "height": 221
        },
        "outputId": "9bda2187-ac27-4a89-da65-b46503521daa"
      },
      "source": [
        "#Prepare model with k-fold validation\n",
        "import numpy as np\n",
        "\n",
        "num_val_samples = len(train_data) // num_k_fold\n",
        "all_mae_histories =[]\n",
        "\n",
        "for i in range(num_k_fold):\n",
        "  print('processing fold #', i)\n",
        "  val_data = train_data[i * num_val_samples: (i+1) * num_val_samples]\n",
        "  val_targets = train_targets[i*num_val_samples: (i+1) * num_val_samples]\n",
        "  \n",
        "  partial_train_data = np.concatenate(\n",
        "    [train_data[:i*num_val_samples],\n",
        "     train_data[(i+1) *num_val_samples:]],\n",
        "     axis=0)\n",
        "  partial_train_targets = np.concatenate(\n",
        "    [train_targets[:i*num_val_samples],\n",
        "     train_targets[(i+1)*num_val_samples:]],\n",
        "     axis=0)\n",
        "  print(i)\n",
        "  model = build_model()\n",
        "  history = model.fit(partial_train_data, partial_train_targets,\n",
        "                      validation_data=(val_data, val_targets), \n",
        "                      epochs=num_epochs, batch_size=1, verbose=0)\n",
        "  mae_history = history.history['val_mean_absolute_error']\n",
        "  all_mae_histories.append(mae_history)\n",
        "  print(i)"
      ],
      "execution_count": 6,
      "outputs": [
        {
          "output_type": "stream",
          "text": [
            "processing fold # 0\n",
            "0\n",
            "0\n",
            "processing fold # 1\n",
            "1\n",
            "1\n",
            "processing fold # 2\n",
            "2\n",
            "2\n",
            "processing fold # 3\n",
            "3\n",
            "3\n"
          ],
          "name": "stdout"
        }
      ]
    },
    {
      "cell_type": "code",
      "metadata": {
        "id": "3KynrmOpRYgy",
        "colab_type": "code",
        "colab": {
          "base_uri": "https://localhost:8080/",
          "height": 283
        },
        "outputId": "93b70f74-9c08-42c9-f9cb-23528b8e2264"
      },
      "source": [
        "#Plotting average validation scores by epoch\n",
        "average_mae_history = [np.mean([x[i] for x in all_mae_histories]) for i in range(num_epochs)]\n",
        "\n",
        "import matplotlib.pyplot as plt\n",
        "plt.plot(range(1, len(average_mae_history)+ 1), average_mae_history)\n",
        "plt.xlabel('Epochs')\n",
        "plt.ylabel('Validation MAE')\n",
        "plt.show()"
      ],
      "execution_count": 7,
      "outputs": [
        {
          "output_type": "display_data",
          "data": {
            "image/png": "[encoded data removed]",
            "text/plain": [
              "<Figure size 432x288 with 1 Axes>"
            ]
          },
          "metadata": {
            "tags": []
          }
        }
      ]
    },
    {
      "cell_type": "code",
      "metadata": {
        "id": "kGOz9MpYTV_k",
        "colab_type": "code",
        "colab": {
          "base_uri": "https://localhost:8080/",
          "height": 283
        },
        "outputId": "869d0210-56b4-421d-da85-f211ef724fc6"
      },
      "source": [
        "#Replot with smoothing\n",
        "\n",
        "def smooth_curve(points, factor=.9):\n",
        "  smoothed_points = []\n",
        "  for point in points:\n",
        "    if smoothed_points:\n",
        "      previous = smoothed_points[-1]\n",
        "      smoothed_points.append(previous*factor+point*(1-factor))\n",
        "    else: smoothed_points.append(point)\n",
        "  return smoothed_points\n",
        "\n",
        "smooth_mae_history= smooth_curve(average_mae_history[10:])\n",
        "\n",
        "plt.plot(range(1, len(smooth_mae_history) +1), smooth_mae_history)\n",
        "plt.xlabel('Epochs')\n",
        "plt.ylabel('Validation MAE')\n",
        "plt.show()\n",
        "\n",
        "                       "
      ],
      "execution_count": 8,
      "outputs": [
        {
          "output_type": "display_data",
          "data": {
            "image/png": "[encoded data removed]",
            "text/plain": [
              "<Figure size 432x288 with 1 Axes>"
            ]
          },
          "metadata": {
            "tags": []
          }
        }
      ]
    },
    {
      "cell_type": "code",
      "metadata": {
        "id": "iYMoGMzBUIPF",
        "colab_type": "code",
        "colab": {
          "base_uri": "https://localhost:8080/",
          "height": 51
        },
        "outputId": "30ce2a71-7cf4-4f0d-f9ee-afbba8d75e1b"
      },
      "source": [
        "#Retraining model to 80 epochs\n",
        "\n",
        "model = build_model()\n",
        "model.fit(train_data, train_targets, epochs=80, batch_size = 16, verbose=0)\n",
        "test_mse_score, test_mae_score = model.evaluate(test_data, test_targets)\n",
        "\n",
        "#Print final avg error\n",
        "print(test_mae_score)"
      ],
      "execution_count": 10,
      "outputs": [
        {
          "output_type": "stream",
          "text": [
            "102/102 [==============================] - 0s 891us/step\n",
            "2225.8892702588846\n"
          ],
          "name": "stdout"
        }
      ]
    },
    {
      "cell_type": "code",
      "metadata": {
        "id": "llC4bXC8UlTi",
        "colab_type": "code",
        "colab": {}
      },
      "source": [
        ""
      ],
      "execution_count": 0,
      "outputs": []
    }
  ]
}