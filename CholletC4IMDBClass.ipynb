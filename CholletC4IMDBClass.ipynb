{
  "nbformat": 4,
  "nbformat_minor": 0,
  "metadata": {
    "colab": {
      "name": "CholletC4IMDBClass.ipynb",
      "version": "0.3.2",
      "provenance": [],
      "include_colab_link": true
    },
    "kernelspec": {
      "name": "python3",
      "display_name": "Python 3"
    }
  },
  "cells": [
    {
      "cell_type": "markdown",
      "metadata": {
        "id": "view-in-github",
        "colab_type": "text"
      },
      "source": [
        "<a href=\"https://colab.research.google.com/github/sgywhetstone/CholletDLWorkbooks/blob/master/CholletC4IMDBClass.ipynb\" target=\"_parent\"><img src=\"https://colab.research.google.com/assets/colab-badge.svg\" alt=\"Open In Colab\"/></a>"
      ]
    },
    {
      "cell_type": "markdown",
      "metadata": {
        "id": "x38Tp3OH-TYp",
        "colab_type": "text"
      },
      "source": [
        "Improving on the C3 IMBD classification model by using dropout and weight regularization \n"
      ]
    },
    {
      "cell_type": "code",
      "metadata": {
        "id": "cezSIJrz9xO2",
        "colab_type": "code",
        "colab": {
          "base_uri": "https://localhost:8080/",
          "height": 51
        },
        "outputId": "2f6b1d2c-14fe-40a1-b734-93ed0a48f3b5"
      },
      "source": [
        "import keras\n",
        "import numpy as np\n",
        "keras.__version__"
      ],
      "execution_count": 1,
      "outputs": [
        {
          "output_type": "stream",
          "text": [
            "Using TensorFlow backend.\n"
          ],
          "name": "stderr"
        },
        {
          "output_type": "execute_result",
          "data": {
            "text/plain": [
              "'2.2.4'"
            ]
          },
          "metadata": {
            "tags": []
          },
          "execution_count": 1
        }
      ]
    },
    {
      "cell_type": "code",
      "metadata": {
        "id": "IeJnJF9z_vkJ",
        "colab_type": "code",
        "colab": {}
      },
      "source": [
        "#Set the number of words we keep from the reviews - e.g. if max_words = 10000, we keep only the top 10 000 most common words\n",
        "max_words = 10000"
      ],
      "execution_count": 0,
      "outputs": []
    },
    {
      "cell_type": "markdown",
      "metadata": {
        "id": "V6lByJ6U_z8K",
        "colab_type": "text"
      },
      "source": [
        "7/3/19 - Change in numpy leads to book implementation failing to load data. Fix from https://stackoverflow.com/a/56243777\n",
        "\n",
        "Orginal implementation retains only lines 1 and 10."
      ]
    },
    {
      "cell_type": "code",
      "metadata": {
        "id": "aGfvVs0u_xZF",
        "colab_type": "code",
        "colab": {
          "base_uri": "https://localhost:8080/",
          "height": 51
        },
        "outputId": "f6af9ce0-99a6-4975-b80d-5a1cd805d8b6"
      },
      "source": [
        "from keras.datasets import imdb\n",
        "\n",
        "# save np.load\n",
        "np_load_old = np.load\n",
        "\n",
        "# modify the default parameters of np.load\n",
        "np.load = lambda *a,**k: np_load_old(*a, allow_pickle=True, **k)\n",
        "\n",
        "# call load_data with allow_pickle implicitly set to true\n",
        "(train_data, train_labels), (test_data, test_labels) = imdb.load_data(num_words= max_words)\n",
        "\n",
        "# restore np.load for future normal usage\n",
        "np.load = np_load_old"
      ],
      "execution_count": 3,
      "outputs": [
        {
          "output_type": "stream",
          "text": [
            "Downloading data from https://s3.amazonaws.com/text-datasets/imdb.npz\n",
            "17465344/17464789 [==============================] - 0s 0us/step\n"
          ],
          "name": "stdout"
        }
      ]
    },
    {
      "cell_type": "code",
      "metadata": {
        "id": "Y0Tx0BuZ_4GP",
        "colab_type": "code",
        "colab": {
          "base_uri": "https://localhost:8080/",
          "height": 51
        },
        "outputId": "9c568d56-d8c8-482e-d3a8-b570304e5cb8"
      },
      "source": [
        "#This decodes a selected review\n",
        "#word_index is a dictionary (word, index)\n",
        "word_index = imdb.get_word_index()\n",
        "#flip the dictionary\n",
        "reverse_word_index = dict(\n",
        "  [(value, key) for (key, value) in word_index.items()])\n",
        "decoded_review = ' '.join(\n",
        "[reverse_word_index.get(i-3, '?') for i in train_data[24000]])"
      ],
      "execution_count": 4,
      "outputs": [
        {
          "output_type": "stream",
          "text": [
            "Downloading data from https://s3.amazonaws.com/text-datasets/imdb_word_index.json\n",
            "1646592/1641221 [==============================] - 0s 0us/step\n"
          ],
          "name": "stdout"
        }
      ]
    },
    {
      "cell_type": "code",
      "metadata": {
        "id": "a7VdZJrm_6po",
        "colab_type": "code",
        "colab": {}
      },
      "source": [
        "#Encode the reviews via one-hot encoding\n",
        "def vectorize_sequences(sequences, dimension = max_words):  #One-hot function\n",
        "  results = np.zeros((len(sequences), dimension))\n",
        "  for i, sequence in enumerate(sequences):\n",
        "    results[i, sequence] = 1.\n",
        "  return results\n",
        "\n",
        "#Vectorize training and test data\n",
        "x_train = vectorize_sequences(train_data)\n",
        "x_test = vectorize_sequences(test_data)\n",
        "\n",
        "#Vectorize training and test labels\n",
        "y_train = np.asarray(train_labels).astype('float32')\n",
        "y_test = np.asarray(test_labels).astype('float32')"
      ],
      "execution_count": 0,
      "outputs": []
    },
    {
      "cell_type": "markdown",
      "metadata": {
        "id": "E_EcURcDAA1h",
        "colab_type": "text"
      },
      "source": [
        "We build a 3 layer network via Sequential - Two 16-dimensional relu layers, and one sigmoid layer to output probability. "
      ]
    },
    {
      "cell_type": "code",
      "metadata": {
        "id": "7loKCCMA_8vQ",
        "colab_type": "code",
        "colab": {
          "base_uri": "https://localhost:8080/",
          "height": 156
        },
        "outputId": "733b2a25-be1f-4bc2-b5c8-7ded39abafb5"
      },
      "source": [
        "from keras import models\n",
        "from keras import layers\n",
        "\n",
        "model = models.Sequential()\n",
        "model.add(layers.Dense(16, activation='relu', input_shape=(10000,)))\n",
        "model.add(layers.Dense(16, activation='relu'))\n",
        "model.add(layers.Dense(1, activation='sigmoid'))"
      ],
      "execution_count": 6,
      "outputs": [
        {
          "output_type": "stream",
          "text": [
            "WARNING: Logging before flag parsing goes to stderr.\n",
            "W0711 21:46:11.435815 140408153458560 deprecation_wrapper.py:119] From /usr/local/lib/python3.6/dist-packages/keras/backend/tensorflow_backend.py:74: The name tf.get_default_graph is deprecated. Please use tf.compat.v1.get_default_graph instead.\n",
            "\n",
            "W0711 21:46:11.483996 140408153458560 deprecation_wrapper.py:119] From /usr/local/lib/python3.6/dist-packages/keras/backend/tensorflow_backend.py:517: The name tf.placeholder is deprecated. Please use tf.compat.v1.placeholder instead.\n",
            "\n",
            "W0711 21:46:11.492033 140408153458560 deprecation_wrapper.py:119] From /usr/local/lib/python3.6/dist-packages/keras/backend/tensorflow_backend.py:4138: The name tf.random_uniform is deprecated. Please use tf.random.uniform instead.\n",
            "\n"
          ],
          "name": "stderr"
        }
      ]
    },
    {
      "cell_type": "code",
      "metadata": {
        "id": "YgEXQwYkADFm",
        "colab_type": "code",
        "colab": {
          "base_uri": "https://localhost:8080/",
          "height": 156
        },
        "outputId": "240e1af5-227d-4ae6-f188-fdff980cacdd"
      },
      "source": [
        "#Using prepackaged functions from Keras\n",
        "model.compile(optimizer='rmsprop',\n",
        "              loss='binary_crossentropy',\n",
        "              metrics=['accuracy'])"
      ],
      "execution_count": 7,
      "outputs": [
        {
          "output_type": "stream",
          "text": [
            "W0711 21:46:36.021153 140408153458560 deprecation_wrapper.py:119] From /usr/local/lib/python3.6/dist-packages/keras/optimizers.py:790: The name tf.train.Optimizer is deprecated. Please use tf.compat.v1.train.Optimizer instead.\n",
            "\n",
            "W0711 21:46:36.056437 140408153458560 deprecation_wrapper.py:119] From /usr/local/lib/python3.6/dist-packages/keras/backend/tensorflow_backend.py:3376: The name tf.log is deprecated. Please use tf.math.log instead.\n",
            "\n",
            "W0711 21:46:36.063093 140408153458560 deprecation.py:323] From /usr/local/lib/python3.6/dist-packages/tensorflow/python/ops/nn_impl.py:180: add_dispatch_support.<locals>.wrapper (from tensorflow.python.ops.array_ops) is deprecated and will be removed in a future version.\n",
            "Instructions for updating:\n",
            "Use tf.where in 2.0, which has the same broadcast rule as np.where\n"
          ],
          "name": "stderr"
        }
      ]
    },
    {
      "cell_type": "code",
      "metadata": {
        "id": "SY4FhqNTAJG1",
        "colab_type": "code",
        "colab": {}
      },
      "source": [
        "#validating the data\n",
        "#Create a 10k sample validation set\n",
        "\n",
        "x_val = x_train[:10000]\n",
        "partial_x_train = x_train[10000:]\n",
        "y_val = y_train[:10000]\n",
        "partial_y_train = y_train[10000:]"
      ],
      "execution_count": 0,
      "outputs": []
    },
    {
      "cell_type": "code",
      "metadata": {
        "id": "qt8bMzPcALl4",
        "colab_type": "code",
        "colab": {
          "base_uri": "https://localhost:8080/",
          "height": 768
        },
        "outputId": "1d9b872b-b76e-4193-e7fe-c719512769c0"
      },
      "source": [
        "#Train the model (20 epochs)\n",
        "history = model.fit(partial_x_train,\n",
        "                    partial_y_train,\n",
        "                   epochs=20,\n",
        "                   batch_size=512,\n",
        "                   validation_data=(x_val, y_val))"
      ],
      "execution_count": 9,
      "outputs": [
        {
          "output_type": "stream",
          "text": [
            "W0711 21:46:54.470035 140408153458560 deprecation_wrapper.py:119] From /usr/local/lib/python3.6/dist-packages/keras/backend/tensorflow_backend.py:986: The name tf.assign_add is deprecated. Please use tf.compat.v1.assign_add instead.\n",
            "\n"
          ],
          "name": "stderr"
        },
        {
          "output_type": "stream",
          "text": [
            "Train on 15000 samples, validate on 10000 samples\n",
            "Epoch 1/20\n",
            "15000/15000 [==============================] - 3s 178us/step - loss: 0.5052 - acc: 0.7860 - val_loss: 0.3783 - val_acc: 0.8698\n",
            "Epoch 2/20\n",
            "15000/15000 [==============================] - 2s 127us/step - loss: 0.2994 - acc: 0.9045 - val_loss: 0.3002 - val_acc: 0.8892\n",
            "Epoch 3/20\n",
            "15000/15000 [==============================] - 2s 127us/step - loss: 0.2174 - acc: 0.9283 - val_loss: 0.3078 - val_acc: 0.8716\n",
            "Epoch 4/20\n",
            "15000/15000 [==============================] - 2s 126us/step - loss: 0.1748 - acc: 0.9435 - val_loss: 0.2835 - val_acc: 0.8842\n",
            "Epoch 5/20\n",
            "15000/15000 [==============================] - 2s 126us/step - loss: 0.1422 - acc: 0.9542 - val_loss: 0.2856 - val_acc: 0.8860\n",
            "Epoch 6/20\n",
            "15000/15000 [==============================] - 2s 126us/step - loss: 0.1148 - acc: 0.9653 - val_loss: 0.3122 - val_acc: 0.8784\n",
            "Epoch 7/20\n",
            "15000/15000 [==============================] - 2s 124us/step - loss: 0.0978 - acc: 0.9709 - val_loss: 0.3131 - val_acc: 0.8837\n",
            "Epoch 8/20\n",
            "15000/15000 [==============================] - 2s 124us/step - loss: 0.0806 - acc: 0.9765 - val_loss: 0.3859 - val_acc: 0.8658\n",
            "Epoch 9/20\n",
            "15000/15000 [==============================] - 2s 125us/step - loss: 0.0661 - acc: 0.9821 - val_loss: 0.3636 - val_acc: 0.8774\n",
            "Epoch 10/20\n",
            "15000/15000 [==============================] - 2s 124us/step - loss: 0.0566 - acc: 0.9851 - val_loss: 0.3846 - val_acc: 0.8793\n",
            "Epoch 11/20\n",
            "15000/15000 [==============================] - 2s 125us/step - loss: 0.0428 - acc: 0.9902 - val_loss: 0.4127 - val_acc: 0.8773\n",
            "Epoch 12/20\n",
            "15000/15000 [==============================] - 2s 125us/step - loss: 0.0375 - acc: 0.9921 - val_loss: 0.4599 - val_acc: 0.8680\n",
            "Epoch 13/20\n",
            "15000/15000 [==============================] - 2s 124us/step - loss: 0.0299 - acc: 0.9931 - val_loss: 0.4709 - val_acc: 0.8730\n",
            "Epoch 14/20\n",
            "15000/15000 [==============================] - 2s 124us/step - loss: 0.0251 - acc: 0.9943 - val_loss: 0.5041 - val_acc: 0.8726\n",
            "Epoch 15/20\n",
            "15000/15000 [==============================] - 2s 125us/step - loss: 0.0203 - acc: 0.9964 - val_loss: 0.5309 - val_acc: 0.8705\n",
            "Epoch 16/20\n",
            "15000/15000 [==============================] - 2s 124us/step - loss: 0.0143 - acc: 0.9981 - val_loss: 0.5685 - val_acc: 0.8696\n",
            "Epoch 17/20\n",
            "15000/15000 [==============================] - 2s 125us/step - loss: 0.0148 - acc: 0.9973 - val_loss: 0.6005 - val_acc: 0.8660\n",
            "Epoch 18/20\n",
            "15000/15000 [==============================] - 2s 124us/step - loss: 0.0108 - acc: 0.9981 - val_loss: 0.6310 - val_acc: 0.8669\n",
            "Epoch 19/20\n",
            "15000/15000 [==============================] - 2s 124us/step - loss: 0.0058 - acc: 0.9999 - val_loss: 0.6920 - val_acc: 0.8592\n",
            "Epoch 20/20\n",
            "15000/15000 [==============================] - 2s 125us/step - loss: 0.0087 - acc: 0.9985 - val_loss: 0.6879 - val_acc: 0.8649\n"
          ],
          "name": "stdout"
        }
      ]
    },
    {
      "cell_type": "code",
      "metadata": {
        "id": "DzqQf0vwANiU",
        "colab_type": "code",
        "colab": {
          "base_uri": "https://localhost:8080/",
          "height": 295
        },
        "outputId": "b3c6f704-b823-4a73-e9c8-5743b16b3fa1"
      },
      "source": [
        "#Plot training/validation loss\n",
        "import matplotlib.pyplot as plt\n",
        "\n",
        "acc = history.history['acc']\n",
        "val_acc = history.history['val_acc']\n",
        "loss = history.history['loss']\n",
        "val_loss = history.history['val_loss']\n",
        "\n",
        "epochs = range(1, len(acc) + 1)\n",
        "\n",
        "plt.plot(epochs, loss, 'bo', label='Training loss')\n",
        "plt.plot(epochs, val_loss, 'b', label='Validation loss')\n",
        "plt.title('Training and validation loss')\n",
        "plt.xlabel('Epochs')\n",
        "plt.ylabel('Loss')\n",
        "plt.legend()\n",
        "\n",
        "plt.show()"
      ],
      "execution_count": 10,
      "outputs": [
        {
          "output_type": "display_data",
          "data": {
            "image/png": "[encoded data removed]",
            "text/plain": [
              "<Figure size 432x288 with 1 Axes>"
            ]
          },
          "metadata": {
            "tags": []
          }
        }
      ]
    },
    {
      "cell_type": "code",
      "metadata": {
        "id": "_DZKve78AQrj",
        "colab_type": "code",
        "colab": {
          "base_uri": "https://localhost:8080/",
          "height": 295
        },
        "outputId": "fed1df18-91b8-4bc0-e774-f9bc51206c37"
      },
      "source": [
        "plt.clf()\n",
        "\n",
        "plt.plot(epochs, acc, 'bo', label=\"Training acc\")\n",
        "plt.plot(epochs, val_acc, 'b', label=\"Validation acc\")\n",
        "plt.title('Training and validation accuracy')\n",
        "plt.xlabel('Epochs')\n",
        "plt.ylabel('Loss')\n",
        "plt.legend()\n",
        "\n",
        "plt.show()"
      ],
      "execution_count": 11,
      "outputs": [
        {
          "output_type": "display_data",
          "data": {
            "image/png": "[encoded data removed]",
            "text/plain": [
              "<Figure size 432x288 with 1 Axes>"
            ]
          },
          "metadata": {
            "tags": []
          }
        }
      ]
    },
    {
      "cell_type": "code",
      "metadata": {
        "id": "I3X4f4QmAUZW",
        "colab_type": "code",
        "colab": {
          "base_uri": "https://localhost:8080/",
          "height": 136
        },
        "outputId": "0ca96005-1abf-4546-aa7a-be1908330297"
      },
      "source": [
        "#Retrain model\n",
        "\n",
        "model = models.Sequential()\n",
        "model.add(layers.Dense(16, activation='relu', input_shape=(10000,)))\n",
        "model.add(layers.Dense(16, activation='relu'))\n",
        "model.add(layers.Dense(1, activation='sigmoid'))\n",
        "\n",
        "model.compile(optimizer='rmsprop',\n",
        "              loss='binary_crossentropy',\n",
        "              metrics=['accuracy'])\n",
        "\n",
        "model.fit(x_train, y_train, epochs=np.argmin(val_loss), batch_size=512)\n",
        "results = model.evaluate(x_test, y_test)"
      ],
      "execution_count": 12,
      "outputs": [
        {
          "output_type": "stream",
          "text": [
            "Epoch 1/3\n",
            "25000/25000 [==============================] - 2s 97us/step - loss: 0.4737 - acc: 0.8219\n",
            "Epoch 2/3\n",
            "25000/25000 [==============================] - 2s 89us/step - loss: 0.2674 - acc: 0.9092\n",
            "Epoch 3/3\n",
            "25000/25000 [==============================] - 2s 89us/step - loss: 0.2033 - acc: 0.9282\n",
            "25000/25000 [==============================] - 2s 83us/step\n"
          ],
          "name": "stdout"
        }
      ]
    },
    {
      "cell_type": "code",
      "metadata": {
        "id": "XTWBK4oSAZ6l",
        "colab_type": "code",
        "colab": {
          "base_uri": "https://localhost:8080/",
          "height": 34
        },
        "outputId": "25c5e860-7b70-446d-bc05-4338f58c9417"
      },
      "source": [
        "results"
      ],
      "execution_count": 13,
      "outputs": [
        {
          "output_type": "execute_result",
          "data": {
            "text/plain": [
              "[0.28784860424041747, 0.8848]"
            ]
          },
          "metadata": {
            "tags": []
          },
          "execution_count": 13
        }
      ]
    },
    {
      "cell_type": "code",
      "metadata": {
        "id": "fDZuXh4ZAcTY",
        "colab_type": "code",
        "colab": {
          "base_uri": "https://localhost:8080/",
          "height": 136
        },
        "outputId": "63420d0a-ad17-45bc-f525-deb7f7390c37"
      },
      "source": [
        "model.predict(x_test)"
      ],
      "execution_count": 14,
      "outputs": [
        {
          "output_type": "execute_result",
          "data": {
            "text/plain": [
              "array([[0.25507653],\n",
              "       [0.9996121 ],\n",
              "       [0.5387427 ],\n",
              "       ...,\n",
              "       [0.10107219],\n",
              "       [0.09089383],\n",
              "       [0.47373414]], dtype=float32)"
            ]
          },
          "metadata": {
            "tags": []
          },
          "execution_count": 14
        }
      ]
    },
    {
      "cell_type": "code",
      "metadata": {
        "id": "a6XVgosiAenr",
        "colab_type": "code",
        "colab": {}
      },
      "source": [
        ""
      ],
      "execution_count": 0,
      "outputs": []
    }
  ]
}