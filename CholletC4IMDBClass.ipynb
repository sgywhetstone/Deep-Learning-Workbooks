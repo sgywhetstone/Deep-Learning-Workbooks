{
  "nbformat": 4,
  "nbformat_minor": 0,
  "metadata": {
    "colab": {
      "name": "CholletC4IMDBClass.ipynb",
      "version": "0.3.2",
      "provenance": [],
      "include_colab_link": true
    },
    "kernelspec": {
      "name": "python3",
      "display_name": "Python 3"
    },
    "accelerator": "GPU"
  },
  "cells": [
    {
      "cell_type": "markdown",
      "metadata": {
        "id": "view-in-github",
        "colab_type": "text"
      },
      "source": [
        "<a href=\"https://colab.research.google.com/github/sgywhetstone/CholletDLWorkbooks/blob/master/CholletC4IMDBClass.ipynb\" target=\"_parent\"><img src=\"https://colab.research.google.com/assets/colab-badge.svg\" alt=\"Open In Colab\"/></a>"
      ]
    },
    {
      "cell_type": "markdown",
      "metadata": {
        "id": "x38Tp3OH-TYp",
        "colab_type": "text"
      },
      "source": [
        "\n",
        "Improving on the C3 IMBD classification model by using dropout and weight regularization \n",
        "\n",
        "First we experiment with larger and smaller models to see the effects of over/underfitting. Finding the existing size to be a reasonable compromise, we test different versions of regularization and dropout rates, before training a final model using both. \n",
        "\n",
        "Regularization and dropout interact in some way creating a strange effect on validation scores. Nonetheless, the final model improves accuracy from 85% to 87.5%."
      ]
    },
    {
      "cell_type": "code",
      "metadata": {
        "id": "cezSIJrz9xO2",
        "colab_type": "code",
        "colab": {
          "base_uri": "https://localhost:8080/",
          "height": 34
        },
        "outputId": "63e86525-9037-458e-e845-6cfa4d10f1fc"
      },
      "source": [
        "#Using the code from C3, prepare the dataset and generate the old model\n",
        "\n",
        "import keras\n",
        "import numpy as np\n",
        "keras.__version__\n",
        "\n",
        "#Set the number of words we keep from the reviews - e.g. if max_words = 10000, we keep only the top 10 000 most common words\n",
        "max_words = 10000\n",
        "\n",
        "from keras.datasets import imdb\n",
        "\n",
        "# save np.load\n",
        "np_load_old = np.load\n",
        "\n",
        "# modify the default parameters of np.load\n",
        "np.load = lambda *a,**k: np_load_old(*a, allow_pickle=True, **k)\n",
        "\n",
        "# call load_data with allow_pickle implicitly set to true\n",
        "(train_data, train_labels), (test_data, test_labels) = imdb.load_data(num_words= max_words)\n",
        "\n",
        "# restore np.load for future normal usage\n",
        "np.load = np_load_old\n",
        "\n",
        "#Encode the reviews via one-hot encoding\n",
        "def vectorize_sequences(sequences, dimension = max_words):  #One-hot function\n",
        "  results = np.zeros((len(sequences), dimension))\n",
        "  for i, sequence in enumerate(sequences):\n",
        "    results[i, sequence] = 1.\n",
        "  return results\n",
        "\n",
        "#Vectorize training and test data\n",
        "x_train = vectorize_sequences(train_data)\n",
        "x_test = vectorize_sequences(test_data)\n",
        "\n",
        "#Vectorize training and test labels\n",
        "y_train = np.asarray(train_labels).astype('float32')\n",
        "y_test = np.asarray(test_labels).astype('float32')\n",
        "\n",
        "\n",
        "#Create a 10k sample validation set\n",
        "x_val = x_train[:10000]\n",
        "partial_x_train = x_train[10000:]\n",
        "y_val = y_train[:10000]\n",
        "partial_y_train = y_train[10000:]"
      ],
      "execution_count": 1,
      "outputs": [
        {
          "output_type": "stream",
          "text": [
            "Using TensorFlow backend.\n"
          ],
          "name": "stderr"
        }
      ]
    },
    {
      "cell_type": "code",
      "metadata": {
        "id": "7loKCCMA_8vQ",
        "colab_type": "code",
        "colab": {
          "base_uri": "https://localhost:8080/",
          "height": 275
        },
        "outputId": "c2f4025c-a261-4dd7-d504-7f1bdda4a11a"
      },
      "source": [
        "#Old Model\n",
        "from keras import models\n",
        "from keras import layers\n",
        "\n",
        "model = models.Sequential()\n",
        "model.add(layers.Dense(16, activation='relu', input_shape=(max_words,)))\n",
        "model.add(layers.Dense(16, activation='relu'))\n",
        "model.add(layers.Dense(1, activation='sigmoid'))\n",
        "\n",
        "model.compile(optimizer='rmsprop',\n",
        "                       loss='binary_crossentropy',\n",
        "                       metrics=['acc'])"
      ],
      "execution_count": 2,
      "outputs": [
        {
          "output_type": "stream",
          "text": [
            "WARNING: Logging before flag parsing goes to stderr.\n",
            "W0717 22:06:48.955657 139943469377408 deprecation_wrapper.py:119] From /usr/local/lib/python3.6/dist-packages/keras/backend/tensorflow_backend.py:74: The name tf.get_default_graph is deprecated. Please use tf.compat.v1.get_default_graph instead.\n",
            "\n",
            "W0717 22:06:48.972837 139943469377408 deprecation_wrapper.py:119] From /usr/local/lib/python3.6/dist-packages/keras/backend/tensorflow_backend.py:517: The name tf.placeholder is deprecated. Please use tf.compat.v1.placeholder instead.\n",
            "\n",
            "W0717 22:06:48.975090 139943469377408 deprecation_wrapper.py:119] From /usr/local/lib/python3.6/dist-packages/keras/backend/tensorflow_backend.py:4138: The name tf.random_uniform is deprecated. Please use tf.random.uniform instead.\n",
            "\n",
            "W0717 22:06:49.034674 139943469377408 deprecation_wrapper.py:119] From /usr/local/lib/python3.6/dist-packages/keras/optimizers.py:790: The name tf.train.Optimizer is deprecated. Please use tf.compat.v1.train.Optimizer instead.\n",
            "\n",
            "W0717 22:06:49.052309 139943469377408 deprecation_wrapper.py:119] From /usr/local/lib/python3.6/dist-packages/keras/backend/tensorflow_backend.py:3376: The name tf.log is deprecated. Please use tf.math.log instead.\n",
            "\n",
            "W0717 22:06:49.058511 139943469377408 deprecation.py:323] From /usr/local/lib/python3.6/dist-packages/tensorflow/python/ops/nn_impl.py:180: add_dispatch_support.<locals>.wrapper (from tensorflow.python.ops.array_ops) is deprecated and will be removed in a future version.\n",
            "Instructions for updating:\n",
            "Use tf.where in 2.0, which has the same broadcast rule as np.where\n"
          ],
          "name": "stderr"
        }
      ]
    },
    {
      "cell_type": "code",
      "metadata": {
        "id": "YgEXQwYkADFm",
        "colab_type": "code",
        "colab": {}
      },
      "source": [
        "#Smaller Model\n",
        "small_model = models.Sequential()\n",
        "small_model.add(layers.Dense(4, activation='relu', input_shape=(max_words,)))\n",
        "small_model.add(layers.Dense(4, activation='relu'))\n",
        "small_model.add(layers.Dense(1, activation='sigmoid'))\n",
        "\n",
        "small_model.compile(optimizer='rmsprop',\n",
        "                       loss='binary_crossentropy',\n",
        "                       metrics=['acc'])"
      ],
      "execution_count": 0,
      "outputs": []
    },
    {
      "cell_type": "code",
      "metadata": {
        "id": "tRl9XzGPCPZ8",
        "colab_type": "code",
        "colab": {}
      },
      "source": [
        "#Larger Model\n",
        "large_model = models.Sequential()\n",
        "large_model.add(layers.Dense(512, activation='relu', input_shape=(max_words,)))\n",
        "large_model.add(layers.Dense(512, activation='relu'))\n",
        "large_model.add(layers.Dense(1, activation='sigmoid'))\n",
        "\n",
        "large_model.compile(optimizer='rmsprop',\n",
        "                       loss='binary_crossentropy',\n",
        "                       metrics=['acc'])"
      ],
      "execution_count": 0,
      "outputs": []
    },
    {
      "cell_type": "code",
      "metadata": {
        "id": "93yWIadRCnJz",
        "colab_type": "code",
        "outputId": "4f281fbe-68ee-477d-fe50-a16444a84f77",
        "colab": {
          "base_uri": "https://localhost:8080/",
          "height": 1000
        }
      },
      "source": [
        "#Train models and collect validation data\n",
        "\n",
        "model_hist = model.fit(partial_x_train, partial_y_train,\n",
        "                                   epochs=20,\n",
        "                                   batch_size=512,\n",
        "                                   validation_data=(x_val, y_val))\n",
        "\n",
        "small_model_hist = small_model.fit(partial_x_train, partial_y_train,\n",
        "                                       epochs=20,\n",
        "                                       batch_size=512,\n",
        "                                       validation_data=(x_val, y_val))\n",
        "\n",
        "large_model_hist = large_model.fit(partial_x_train, partial_y_train,\n",
        "                                     epochs=20,\n",
        "                                     batch_size=512,\n",
        "                                     validation_data=(x_val, y_val))"
      ],
      "execution_count": 5,
      "outputs": [
        {
          "output_type": "stream",
          "text": [
            "W0717 22:06:49.398211 139943469377408 deprecation_wrapper.py:119] From /usr/local/lib/python3.6/dist-packages/keras/backend/tensorflow_backend.py:986: The name tf.assign_add is deprecated. Please use tf.compat.v1.assign_add instead.\n",
            "\n"
          ],
          "name": "stderr"
        },
        {
          "output_type": "stream",
          "text": [
            "Train on 15000 samples, validate on 10000 samples\n",
            "Epoch 1/20\n",
            "15000/15000 [==============================] - 3s 171us/step - loss: 0.5093 - acc: 0.7849 - val_loss: 0.3894 - val_acc: 0.8571\n",
            "Epoch 2/20\n",
            "15000/15000 [==============================] - 1s 92us/step - loss: 0.3039 - acc: 0.9003 - val_loss: 0.3044 - val_acc: 0.8876\n",
            "Epoch 3/20\n",
            "15000/15000 [==============================] - 1s 92us/step - loss: 0.2170 - acc: 0.9287 - val_loss: 0.3133 - val_acc: 0.8751\n",
            "Epoch 4/20\n",
            "15000/15000 [==============================] - 1s 91us/step - loss: 0.1708 - acc: 0.9433 - val_loss: 0.2810 - val_acc: 0.8892\n",
            "Epoch 5/20\n",
            "15000/15000 [==============================] - 1s 90us/step - loss: 0.1400 - acc: 0.9549 - val_loss: 0.2829 - val_acc: 0.8888\n",
            "Epoch 6/20\n",
            "15000/15000 [==============================] - 1s 89us/step - loss: 0.1162 - acc: 0.9638 - val_loss: 0.3142 - val_acc: 0.8786\n",
            "Epoch 7/20\n",
            "15000/15000 [==============================] - 1s 89us/step - loss: 0.0954 - acc: 0.9722 - val_loss: 0.3172 - val_acc: 0.8826\n",
            "Epoch 8/20\n",
            "15000/15000 [==============================] - 1s 90us/step - loss: 0.0802 - acc: 0.9759 - val_loss: 0.3420 - val_acc: 0.8797\n",
            "Epoch 9/20\n",
            "15000/15000 [==============================] - 1s 90us/step - loss: 0.0637 - acc: 0.9826 - val_loss: 0.3649 - val_acc: 0.8789\n",
            "Epoch 10/20\n",
            "15000/15000 [==============================] - 1s 90us/step - loss: 0.0552 - acc: 0.9857 - val_loss: 0.3843 - val_acc: 0.8784\n",
            "Epoch 11/20\n",
            "15000/15000 [==============================] - 1s 90us/step - loss: 0.0469 - acc: 0.9881 - val_loss: 0.4106 - val_acc: 0.8757\n",
            "Epoch 12/20\n",
            "15000/15000 [==============================] - 1s 89us/step - loss: 0.0341 - acc: 0.9932 - val_loss: 0.4468 - val_acc: 0.8753\n",
            "Epoch 13/20\n",
            "15000/15000 [==============================] - 1s 90us/step - loss: 0.0308 - acc: 0.9928 - val_loss: 0.4717 - val_acc: 0.8762\n",
            "Epoch 14/20\n",
            "15000/15000 [==============================] - 1s 90us/step - loss: 0.0246 - acc: 0.9954 - val_loss: 0.5050 - val_acc: 0.8733\n",
            "Epoch 15/20\n",
            "15000/15000 [==============================] - 1s 89us/step - loss: 0.0190 - acc: 0.9966 - val_loss: 0.5461 - val_acc: 0.8671\n",
            "Epoch 16/20\n",
            "15000/15000 [==============================] - 1s 90us/step - loss: 0.0171 - acc: 0.9967 - val_loss: 0.5649 - val_acc: 0.8700\n",
            "Epoch 17/20\n",
            "15000/15000 [==============================] - 1s 89us/step - loss: 0.0122 - acc: 0.9987 - val_loss: 0.5957 - val_acc: 0.8676\n",
            "Epoch 18/20\n",
            "15000/15000 [==============================] - 1s 90us/step - loss: 0.0091 - acc: 0.9993 - val_loss: 0.6259 - val_acc: 0.8691\n",
            "Epoch 19/20\n",
            "15000/15000 [==============================] - 1s 90us/step - loss: 0.0110 - acc: 0.9980 - val_loss: 0.6633 - val_acc: 0.8665\n",
            "Epoch 20/20\n",
            "15000/15000 [==============================] - 1s 89us/step - loss: 0.0042 - acc: 0.9999 - val_loss: 0.6879 - val_acc: 0.8656\n",
            "Train on 15000 samples, validate on 10000 samples\n",
            "Epoch 1/20\n",
            "15000/15000 [==============================] - 2s 100us/step - loss: 0.6160 - acc: 0.6395 - val_loss: 0.5697 - val_acc: 0.6627\n",
            "Epoch 2/20\n",
            "15000/15000 [==============================] - 1s 89us/step - loss: 0.5182 - acc: 0.7936 - val_loss: 0.5171 - val_acc: 0.8306\n",
            "Epoch 3/20\n",
            "15000/15000 [==============================] - 1s 90us/step - loss: 0.4713 - acc: 0.8569 - val_loss: 0.4911 - val_acc: 0.8312\n",
            "Epoch 4/20\n",
            "15000/15000 [==============================] - 1s 90us/step - loss: 0.4381 - acc: 0.8899 - val_loss: 0.4736 - val_acc: 0.8735\n",
            "Epoch 5/20\n",
            "15000/15000 [==============================] - 1s 89us/step - loss: 0.4121 - acc: 0.9159 - val_loss: 0.4740 - val_acc: 0.8338\n",
            "Epoch 6/20\n",
            "15000/15000 [==============================] - 1s 90us/step - loss: 0.3909 - acc: 0.9309 - val_loss: 0.4776 - val_acc: 0.8301\n",
            "Epoch 7/20\n",
            "15000/15000 [==============================] - 1s 89us/step - loss: 0.3722 - acc: 0.9422 - val_loss: 0.4672 - val_acc: 0.8485\n",
            "Epoch 8/20\n",
            "15000/15000 [==============================] - 1s 89us/step - loss: 0.3564 - acc: 0.9510 - val_loss: 0.4489 - val_acc: 0.8744\n",
            "Epoch 9/20\n",
            "15000/15000 [==============================] - 1s 89us/step - loss: 0.3412 - acc: 0.9599 - val_loss: 0.4487 - val_acc: 0.8731\n",
            "Epoch 10/20\n",
            "15000/15000 [==============================] - 1s 91us/step - loss: 0.3278 - acc: 0.9662 - val_loss: 0.4623 - val_acc: 0.8621\n",
            "Epoch 11/20\n",
            "15000/15000 [==============================] - 1s 89us/step - loss: 0.3153 - acc: 0.9705 - val_loss: 0.4576 - val_acc: 0.8667\n",
            "Epoch 12/20\n",
            "15000/15000 [==============================] - 1s 90us/step - loss: 0.3031 - acc: 0.9759 - val_loss: 0.4818 - val_acc: 0.8582\n",
            "Epoch 13/20\n",
            "15000/15000 [==============================] - 1s 90us/step - loss: 0.2934 - acc: 0.9785 - val_loss: 0.4953 - val_acc: 0.8550\n",
            "Epoch 14/20\n",
            "15000/15000 [==============================] - 1s 90us/step - loss: 0.2828 - acc: 0.9825 - val_loss: 0.4941 - val_acc: 0.8562\n",
            "Epoch 15/20\n",
            "15000/15000 [==============================] - 1s 91us/step - loss: 0.2732 - acc: 0.9846 - val_loss: 0.4539 - val_acc: 0.8729\n",
            "Epoch 16/20\n",
            "15000/15000 [==============================] - 1s 90us/step - loss: 0.2650 - acc: 0.9866 - val_loss: 0.5381 - val_acc: 0.8515\n",
            "Epoch 17/20\n",
            "15000/15000 [==============================] - 1s 90us/step - loss: 0.2571 - acc: 0.9871 - val_loss: 0.5225 - val_acc: 0.8575\n",
            "Epoch 18/20\n",
            "15000/15000 [==============================] - 1s 91us/step - loss: 0.2490 - acc: 0.9886 - val_loss: 0.5107 - val_acc: 0.8630\n",
            "Epoch 19/20\n",
            "15000/15000 [==============================] - 1s 90us/step - loss: 0.2424 - acc: 0.9893 - val_loss: 0.5316 - val_acc: 0.8599\n",
            "Epoch 20/20\n",
            "15000/15000 [==============================] - 1s 90us/step - loss: 0.2353 - acc: 0.9902 - val_loss: 0.6074 - val_acc: 0.8488\n",
            "Train on 15000 samples, validate on 10000 samples\n",
            "Epoch 1/20\n",
            "15000/15000 [==============================] - 2s 126us/step - loss: 0.5602 - acc: 0.7431 - val_loss: 0.3060 - val_acc: 0.8784\n",
            "Epoch 2/20\n",
            "15000/15000 [==============================] - 2s 104us/step - loss: 0.2685 - acc: 0.8963 - val_loss: 0.2712 - val_acc: 0.8905\n",
            "Epoch 3/20\n",
            "15000/15000 [==============================] - 2s 105us/step - loss: 0.1408 - acc: 0.9489 - val_loss: 0.3619 - val_acc: 0.8694\n",
            "Epoch 4/20\n",
            "15000/15000 [==============================] - 2s 106us/step - loss: 0.1053 - acc: 0.9627 - val_loss: 0.3129 - val_acc: 0.8874\n",
            "Epoch 5/20\n",
            "15000/15000 [==============================] - 2s 105us/step - loss: 0.0428 - acc: 0.9883 - val_loss: 0.4484 - val_acc: 0.8591\n",
            "Epoch 6/20\n",
            "15000/15000 [==============================] - 2s 105us/step - loss: 0.0063 - acc: 0.9997 - val_loss: 0.4975 - val_acc: 0.8838\n",
            "Epoch 7/20\n",
            "15000/15000 [==============================] - 2s 105us/step - loss: 4.9216e-04 - acc: 1.0000 - val_loss: 0.5784 - val_acc: 0.8862\n",
            "Epoch 8/20\n",
            "15000/15000 [==============================] - 2s 105us/step - loss: 7.7816e-05 - acc: 1.0000 - val_loss: 0.6563 - val_acc: 0.8846\n",
            "Epoch 9/20\n",
            "15000/15000 [==============================] - 2s 105us/step - loss: 1.5143e-05 - acc: 1.0000 - val_loss: 0.7219 - val_acc: 0.8834\n",
            "Epoch 10/20\n",
            "15000/15000 [==============================] - 2s 105us/step - loss: 3.5633e-06 - acc: 1.0000 - val_loss: 0.7818 - val_acc: 0.8825\n",
            "Epoch 11/20\n",
            "15000/15000 [==============================] - 2s 105us/step - loss: 1.0632e-06 - acc: 1.0000 - val_loss: 0.8336 - val_acc: 0.8831\n",
            "Epoch 12/20\n",
            "15000/15000 [==============================] - 2s 105us/step - loss: 3.9149e-07 - acc: 1.0000 - val_loss: 0.8824 - val_acc: 0.8834\n",
            "Epoch 13/20\n",
            "15000/15000 [==============================] - 2s 106us/step - loss: 2.0575e-07 - acc: 1.0000 - val_loss: 0.9126 - val_acc: 0.8831\n",
            "Epoch 14/20\n",
            "15000/15000 [==============================] - 2s 107us/step - loss: 1.4514e-07 - acc: 1.0000 - val_loss: 0.9353 - val_acc: 0.8832\n",
            "Epoch 15/20\n",
            "15000/15000 [==============================] - 2s 107us/step - loss: 1.2636e-07 - acc: 1.0000 - val_loss: 0.9504 - val_acc: 0.8831\n",
            "Epoch 16/20\n",
            "15000/15000 [==============================] - 2s 107us/step - loss: 1.1890e-07 - acc: 1.0000 - val_loss: 0.9611 - val_acc: 0.8832\n",
            "Epoch 17/20\n",
            "15000/15000 [==============================] - 2s 106us/step - loss: 1.1542e-07 - acc: 1.0000 - val_loss: 0.9667 - val_acc: 0.8832\n",
            "Epoch 18/20\n",
            "15000/15000 [==============================] - 2s 105us/step - loss: 1.1350e-07 - acc: 1.0000 - val_loss: 0.9723 - val_acc: 0.8831\n",
            "Epoch 19/20\n",
            "15000/15000 [==============================] - 2s 105us/step - loss: 1.1263e-07 - acc: 1.0000 - val_loss: 0.9768 - val_acc: 0.8831\n",
            "Epoch 20/20\n",
            "15000/15000 [==============================] - 2s 106us/step - loss: 1.1202e-07 - acc: 1.0000 - val_loss: 0.9805 - val_acc: 0.8828\n"
          ],
          "name": "stdout"
        }
      ]
    },
    {
      "cell_type": "code",
      "metadata": {
        "id": "itJa_X40rlJU",
        "colab_type": "code",
        "outputId": "9ff61d40-2639-4e66-abe0-fabd672612f2",
        "colab": {
          "base_uri": "https://localhost:8080/",
          "height": 283
        }
      },
      "source": [
        "#Plotting validation loss for all 3 models\n",
        "\n",
        "epochs = range(1, 21)\n",
        "original_val_loss = model_hist.history['val_loss']\n",
        "small_model_val_loss = small_model_hist.history['val_loss']\n",
        "large_model_val_loss = large_model_hist.history['val_loss']\n",
        "\n",
        "import matplotlib.pyplot as plt\n",
        "\n",
        "# b+ is for \"blue cross\"\n",
        "plt.plot(epochs, original_val_loss, 'b+', label='Original model')\n",
        "# \"bo\" is for \"blue dot\"\n",
        "plt.plot(epochs, small_model_val_loss, 'bo', label='Smaller model')\n",
        "# \"bx\" is for \"blue x\"\n",
        "plt.plot(epochs, large_model_val_loss, 'bx', label='Larger model')\n",
        "plt.xlabel('Epochs')\n",
        "plt.ylabel('Validation loss')\n",
        "plt.legend()\n",
        "\n",
        "plt.show()\n"
      ],
      "execution_count": 6,
      "outputs": [
        {
          "output_type": "display_data",
          "data": {
            "image/png": "[encoded data removed]",
            "text/plain": [
              "<Figure size 432x288 with 1 Axes>"
            ]
          },
          "metadata": {
            "tags": []
          }
        }
      ]
    },
    {
      "cell_type": "code",
      "metadata": {
        "id": "ZONfHEnZvbiX",
        "colab_type": "code",
        "outputId": "dd5d7357-317a-45e9-d4b2-9f7ae8b94cad",
        "colab": {
          "base_uri": "https://localhost:8080/",
          "height": 283
        }
      },
      "source": [
        "#Plotting training loss for all 3 models\n",
        "\n",
        "epochs = range(1, 21)\n",
        "original_train_loss = model_hist.history['loss']\n",
        "small_model_train_loss = small_model_hist.history['loss']\n",
        "large_model_train_loss = large_model_hist.history['loss']\n",
        "\n",
        "import matplotlib.pyplot as plt\n",
        "\n",
        "# b+ is for \"blue cross\"\n",
        "plt.plot(epochs, original_train_loss, 'b+', label='Original model')\n",
        "# \"bo\" is for \"blue dot\"\n",
        "plt.plot(epochs, small_model_train_loss, 'bo', label='Smaller model')\n",
        "# \"bx\" is for \"blue x\"\n",
        "plt.plot(epochs, large_model_train_loss, 'bx', label='Larger model')\n",
        "plt.xlabel('Epochs')\n",
        "plt.ylabel('Training loss')\n",
        "plt.legend()\n",
        "\n",
        "plt.show()"
      ],
      "execution_count": 7,
      "outputs": [
        {
          "output_type": "display_data",
          "data": {
            "image/png": "[encoded data removed]",
            "text/plain": [
              "<Figure size 432x288 with 1 Axes>"
            ]
          },
          "metadata": {
            "tags": []
          }
        }
      ]
    },
    {
      "cell_type": "markdown",
      "metadata": {
        "id": "bLgv6N-Swu6o",
        "colab_type": "text"
      },
      "source": [
        "Now we use regularization to the model - see notes for a discussion of regularization and kernel methods. \n",
        "\n",
        "We compare validation losses from original model with regularized version using three different regularizers. "
      ]
    },
    {
      "cell_type": "code",
      "metadata": {
        "id": "Q103w6rXxI44",
        "colab_type": "code",
        "outputId": "49fc95b3-a499-4e52-c4a1-85099ee1d686",
        "colab": {
          "base_uri": "https://localhost:8080/",
          "height": 1000
        }
      },
      "source": [
        "#Creating model with L1 regularization\n",
        "from keras import regularizers\n",
        "\n",
        "l1_model = models.Sequential()\n",
        "l1_model.add(layers.Dense(16, kernel_regularizer=regularizers.l1(0.001), activation='relu', input_shape=(10000,)))\n",
        "l1_model.add(layers.Dense(16, kernel_regularizer=regularizers.l1(0.001), activation='relu'))\n",
        "l1_model.add(layers.Dense(1, activation='sigmoid'))\n",
        "\n",
        "#Creating model with L2 regularization\n",
        "from keras import regularizers\n",
        "\n",
        "l2_model = models.Sequential()\n",
        "l2_model.add(layers.Dense(16, kernel_regularizer=regularizers.l2(0.001), activation='relu', input_shape=(10000,)))\n",
        "l2_model.add(layers.Dense(16, kernel_regularizer=regularizers.l2(0.001), activation='relu'))\n",
        "l2_model.add(layers.Dense(1, activation='sigmoid'))\n",
        "\n",
        "#Creating model with L1/L2 regularization\n",
        "from keras import regularizers\n",
        "\n",
        "l1_l2_model = models.Sequential()\n",
        "l1_l2_model.add(layers.Dense(16, kernel_regularizer=regularizers.l1_l2(0.001), activation='relu', input_shape=(10000,)))\n",
        "l1_l2_model.add(layers.Dense(16, kernel_regularizer=regularizers.l1_l2(0.001), activation='relu'))\n",
        "l1_l2_model.add(layers.Dense(1, activation='sigmoid'))\n",
        "\n",
        "#Compile models\n",
        "l1_model.compile(optimizer='rmsprop',\n",
        "                 loss='binary_crossentropy',\n",
        "                 metrics=['acc'])\n",
        "\n",
        "l1_model_hist = l1_model.fit(partial_x_train, partial_y_train,\n",
        "                             epochs=20,\n",
        "                             batch_size=512,\n",
        "                             validation_data=(x_val, y_val))\n",
        "\n",
        "l2_model.compile(optimizer='rmsprop',\n",
        "                 loss='binary_crossentropy',\n",
        "                 metrics=['acc'])\n",
        "\n",
        "l2_model_hist = l2_model.fit(partial_x_train, partial_y_train,\n",
        "                             epochs=20,\n",
        "                             batch_size=512,\n",
        "                             validation_data=(x_val, y_val))\n",
        "\n",
        "l1_l2_model.compile(optimizer='rmsprop',\n",
        "                 loss='binary_crossentropy',\n",
        "                 metrics=['acc'])\n",
        "\n",
        "l1_l2_model_hist = l1_l2_model.fit(partial_x_train, partial_y_train,\n",
        "                             epochs=20,\n",
        "                             batch_size=512,\n",
        "                             validation_data=(x_val, y_val))\n"
      ],
      "execution_count": 8,
      "outputs": [
        {
          "output_type": "stream",
          "text": [
            "Train on 15000 samples, validate on 10000 samples\n",
            "Epoch 1/20\n",
            "15000/15000 [==============================] - 2s 114us/step - loss: 1.0784 - acc: 0.7393 - val_loss: 0.7707 - val_acc: 0.7206\n",
            "Epoch 2/20\n",
            "15000/15000 [==============================] - 1s 91us/step - loss: 0.6846 - acc: 0.8335 - val_loss: 0.6549 - val_acc: 0.8478\n",
            "Epoch 3/20\n",
            "15000/15000 [==============================] - 1s 91us/step - loss: 0.6260 - acc: 0.8531 - val_loss: 0.6169 - val_acc: 0.8542\n",
            "Epoch 4/20\n",
            "15000/15000 [==============================] - 1s 91us/step - loss: 0.5967 - acc: 0.8548 - val_loss: 0.5960 - val_acc: 0.8546\n",
            "Epoch 5/20\n",
            "15000/15000 [==============================] - 1s 91us/step - loss: 0.5728 - acc: 0.8627 - val_loss: 0.5864 - val_acc: 0.8556\n",
            "Epoch 6/20\n",
            "15000/15000 [==============================] - 1s 91us/step - loss: 0.5572 - acc: 0.8641 - val_loss: 0.5643 - val_acc: 0.8636\n",
            "Epoch 7/20\n",
            "15000/15000 [==============================] - 1s 91us/step - loss: 0.5497 - acc: 0.8638 - val_loss: 0.5510 - val_acc: 0.8644\n",
            "Epoch 8/20\n",
            "15000/15000 [==============================] - 1s 91us/step - loss: 0.5375 - acc: 0.8685 - val_loss: 0.5459 - val_acc: 0.8678\n",
            "Epoch 9/20\n",
            "15000/15000 [==============================] - 1s 91us/step - loss: 0.5271 - acc: 0.8715 - val_loss: 0.5405 - val_acc: 0.8676\n",
            "Epoch 10/20\n",
            "15000/15000 [==============================] - 1s 91us/step - loss: 0.5220 - acc: 0.8711 - val_loss: 0.5733 - val_acc: 0.8426\n",
            "Epoch 11/20\n",
            "15000/15000 [==============================] - 1s 91us/step - loss: 0.5121 - acc: 0.8788 - val_loss: 0.5326 - val_acc: 0.8697\n",
            "Epoch 12/20\n",
            "15000/15000 [==============================] - 1s 91us/step - loss: 0.5074 - acc: 0.8753 - val_loss: 0.5306 - val_acc: 0.8670\n",
            "Epoch 13/20\n",
            "15000/15000 [==============================] - 1s 91us/step - loss: 0.4986 - acc: 0.8800 - val_loss: 0.5453 - val_acc: 0.8562\n",
            "Epoch 14/20\n",
            "15000/15000 [==============================] - 1s 91us/step - loss: 0.4964 - acc: 0.8781 - val_loss: 0.5128 - val_acc: 0.8732\n",
            "Epoch 15/20\n",
            "15000/15000 [==============================] - 1s 91us/step - loss: 0.4876 - acc: 0.8837 - val_loss: 0.5161 - val_acc: 0.8749\n",
            "Epoch 16/20\n",
            "15000/15000 [==============================] - 1s 91us/step - loss: 0.4838 - acc: 0.8851 - val_loss: 0.5624 - val_acc: 0.8447\n",
            "Epoch 17/20\n",
            "15000/15000 [==============================] - 1s 91us/step - loss: 0.4793 - acc: 0.8865 - val_loss: 0.5214 - val_acc: 0.8684\n",
            "Epoch 18/20\n",
            "15000/15000 [==============================] - 1s 91us/step - loss: 0.4696 - acc: 0.8910 - val_loss: 0.5026 - val_acc: 0.8788\n",
            "Epoch 19/20\n",
            "15000/15000 [==============================] - 1s 91us/step - loss: 0.4697 - acc: 0.8911 - val_loss: 0.5241 - val_acc: 0.8623\n",
            "Epoch 20/20\n",
            "15000/15000 [==============================] - 1s 91us/step - loss: 0.4648 - acc: 0.8911 - val_loss: 0.4962 - val_acc: 0.8783\n",
            "Train on 15000 samples, validate on 10000 samples\n",
            "Epoch 1/20\n",
            "15000/15000 [==============================] - 2s 112us/step - loss: 0.5549 - acc: 0.7768 - val_loss: 0.4375 - val_acc: 0.8560\n",
            "Epoch 2/20\n",
            "15000/15000 [==============================] - 1s 91us/step - loss: 0.3559 - acc: 0.8992 - val_loss: 0.3584 - val_acc: 0.8829\n",
            "Epoch 3/20\n",
            "15000/15000 [==============================] - 1s 91us/step - loss: 0.2837 - acc: 0.9253 - val_loss: 0.3326 - val_acc: 0.8901\n",
            "Epoch 4/20\n",
            "15000/15000 [==============================] - 1s 91us/step - loss: 0.2511 - acc: 0.9341 - val_loss: 0.3551 - val_acc: 0.8748\n",
            "Epoch 5/20\n",
            "15000/15000 [==============================] - 1s 91us/step - loss: 0.2290 - acc: 0.9422 - val_loss: 0.3745 - val_acc: 0.8706\n",
            "Epoch 6/20\n",
            "15000/15000 [==============================] - 1s 92us/step - loss: 0.2170 - acc: 0.9470 - val_loss: 0.3444 - val_acc: 0.8843\n",
            "Epoch 7/20\n",
            "15000/15000 [==============================] - 1s 92us/step - loss: 0.2058 - acc: 0.9509 - val_loss: 0.3729 - val_acc: 0.8769\n",
            "Epoch 8/20\n",
            "15000/15000 [==============================] - 1s 91us/step - loss: 0.1954 - acc: 0.9551 - val_loss: 0.3534 - val_acc: 0.8819\n",
            "Epoch 9/20\n",
            "15000/15000 [==============================] - 1s 92us/step - loss: 0.1873 - acc: 0.9590 - val_loss: 0.4209 - val_acc: 0.8658\n",
            "Epoch 10/20\n",
            "15000/15000 [==============================] - 1s 92us/step - loss: 0.1828 - acc: 0.9610 - val_loss: 0.3678 - val_acc: 0.8810\n",
            "Epoch 11/20\n",
            "15000/15000 [==============================] - 1s 91us/step - loss: 0.1743 - acc: 0.9643 - val_loss: 0.3845 - val_acc: 0.8790\n",
            "Epoch 12/20\n",
            "15000/15000 [==============================] - 1s 91us/step - loss: 0.1728 - acc: 0.9646 - val_loss: 0.4300 - val_acc: 0.8677\n",
            "Epoch 13/20\n",
            "15000/15000 [==============================] - 1s 91us/step - loss: 0.1672 - acc: 0.9663 - val_loss: 0.3975 - val_acc: 0.8748\n",
            "Epoch 14/20\n",
            "15000/15000 [==============================] - 1s 91us/step - loss: 0.1647 - acc: 0.9687 - val_loss: 0.3998 - val_acc: 0.8767\n",
            "Epoch 15/20\n",
            "15000/15000 [==============================] - 1s 91us/step - loss: 0.1607 - acc: 0.9683 - val_loss: 0.4158 - val_acc: 0.8741\n",
            "Epoch 16/20\n",
            "15000/15000 [==============================] - 1s 92us/step - loss: 0.1566 - acc: 0.9691 - val_loss: 0.4168 - val_acc: 0.8733\n",
            "Epoch 17/20\n",
            "15000/15000 [==============================] - 1s 91us/step - loss: 0.1576 - acc: 0.9688 - val_loss: 0.4581 - val_acc: 0.8671\n",
            "Epoch 18/20\n",
            "15000/15000 [==============================] - 1s 91us/step - loss: 0.1480 - acc: 0.9747 - val_loss: 0.4279 - val_acc: 0.8710\n",
            "Epoch 19/20\n",
            "15000/15000 [==============================] - 1s 91us/step - loss: 0.1542 - acc: 0.9697 - val_loss: 0.4656 - val_acc: 0.8609\n",
            "Epoch 20/20\n",
            "15000/15000 [==============================] - 1s 91us/step - loss: 0.1456 - acc: 0.9743 - val_loss: 0.4425 - val_acc: 0.8698\n",
            "Train on 15000 samples, validate on 10000 samples\n",
            "Epoch 1/20\n",
            "15000/15000 [==============================] - 2s 115us/step - loss: 1.2812 - acc: 0.6888 - val_loss: 0.8968 - val_acc: 0.7152\n",
            "Epoch 2/20\n",
            "15000/15000 [==============================] - 1s 92us/step - loss: 0.8377 - acc: 0.8205 - val_loss: 0.8050 - val_acc: 0.8369\n",
            "Epoch 3/20\n",
            "15000/15000 [==============================] - 1s 91us/step - loss: 0.7703 - acc: 0.8413 - val_loss: 0.7804 - val_acc: 0.8007\n",
            "Epoch 4/20\n",
            "15000/15000 [==============================] - 1s 91us/step - loss: 0.7239 - acc: 0.8479 - val_loss: 0.7160 - val_acc: 0.8489\n",
            "Epoch 5/20\n",
            "15000/15000 [==============================] - 1s 91us/step - loss: 0.6909 - acc: 0.8519 - val_loss: 0.6947 - val_acc: 0.8442\n",
            "Epoch 6/20\n",
            "15000/15000 [==============================] - 1s 91us/step - loss: 0.6626 - acc: 0.8563 - val_loss: 0.6715 - val_acc: 0.8507\n",
            "Epoch 7/20\n",
            "15000/15000 [==============================] - 1s 91us/step - loss: 0.6402 - acc: 0.8611 - val_loss: 0.6460 - val_acc: 0.8565\n",
            "Epoch 8/20\n",
            "15000/15000 [==============================] - 1s 91us/step - loss: 0.6223 - acc: 0.8625 - val_loss: 0.6401 - val_acc: 0.8493\n",
            "Epoch 9/20\n",
            "15000/15000 [==============================] - 1s 91us/step - loss: 0.6064 - acc: 0.8645 - val_loss: 0.6133 - val_acc: 0.8619\n",
            "Epoch 10/20\n",
            "15000/15000 [==============================] - 1s 91us/step - loss: 0.5925 - acc: 0.8665 - val_loss: 0.6150 - val_acc: 0.8509\n",
            "Epoch 11/20\n",
            "15000/15000 [==============================] - 1s 91us/step - loss: 0.5829 - acc: 0.8655 - val_loss: 0.5956 - val_acc: 0.8593\n",
            "Epoch 12/20\n",
            "15000/15000 [==============================] - 1s 91us/step - loss: 0.5734 - acc: 0.8675 - val_loss: 0.5844 - val_acc: 0.8650\n",
            "Epoch 13/20\n",
            "15000/15000 [==============================] - 1s 91us/step - loss: 0.5633 - acc: 0.8723 - val_loss: 0.5841 - val_acc: 0.8641\n",
            "Epoch 14/20\n",
            "15000/15000 [==============================] - 1s 91us/step - loss: 0.5604 - acc: 0.8727 - val_loss: 0.6082 - val_acc: 0.8425\n",
            "Epoch 15/20\n",
            "15000/15000 [==============================] - 1s 90us/step - loss: 0.5543 - acc: 0.8727 - val_loss: 0.5643 - val_acc: 0.8701\n",
            "Epoch 16/20\n",
            "15000/15000 [==============================] - 1s 91us/step - loss: 0.5487 - acc: 0.8745 - val_loss: 0.5638 - val_acc: 0.8712\n",
            "Epoch 17/20\n",
            "15000/15000 [==============================] - 1s 91us/step - loss: 0.5425 - acc: 0.8781 - val_loss: 0.5724 - val_acc: 0.8623\n",
            "Epoch 18/20\n",
            "15000/15000 [==============================] - 1s 92us/step - loss: 0.5391 - acc: 0.8786 - val_loss: 0.5620 - val_acc: 0.8701\n",
            "Epoch 19/20\n",
            "15000/15000 [==============================] - 1s 92us/step - loss: 0.5340 - acc: 0.8810 - val_loss: 0.5557 - val_acc: 0.8740\n",
            "Epoch 20/20\n",
            "15000/15000 [==============================] - 1s 92us/step - loss: 0.5337 - acc: 0.8819 - val_loss: 0.5626 - val_acc: 0.8630\n"
          ],
          "name": "stdout"
        }
      ]
    },
    {
      "cell_type": "code",
      "metadata": {
        "id": "SqS491Q36cCS",
        "colab_type": "code",
        "outputId": "d31deca0-c7ce-4a9a-cad4-bcbf2e5514bb",
        "colab": {
          "base_uri": "https://localhost:8080/",
          "height": 283
        }
      },
      "source": [
        "#Plot validation loss\n",
        "l1_model_val_loss = l1_model_hist.history['val_loss']\n",
        "l2_model_val_loss = l2_model_hist.history['val_loss']\n",
        "l1_l2_model_val_loss = l1_l2_model_hist.history['val_loss']\n",
        "\n",
        "plt.plot(epochs, original_val_loss, 'b+', label='Original model')\n",
        "plt.plot(epochs, l1_model_val_loss, 'bo', label='L1-regularized model')\n",
        "plt.plot(epochs, l2_model_val_loss, 'bx', label='L2-regularized model')\n",
        "plt.plot(epochs, l1_l2_model_val_loss, 'bv', label='L1/L2-regularized model')\n",
        "plt.xlabel('Epochs')\n",
        "plt.ylabel('Validation loss')\n",
        "plt.legend()\n",
        "\n",
        "plt.show()"
      ],
      "execution_count": 9,
      "outputs": [
        {
          "output_type": "display_data",
          "data": {
            "image/png": "[encoded data removed]",
            "text/plain": [
              "<Figure size 432x288 with 1 Axes>"
            ]
          },
          "metadata": {
            "tags": []
          }
        }
      ]
    },
    {
      "cell_type": "markdown",
      "metadata": {
        "id": "bBi5uvWj5Agh",
        "colab_type": "text"
      },
      "source": [
        "Now we experiment with dropout. We compare validation losses from different dropout rates. "
      ]
    },
    {
      "cell_type": "code",
      "metadata": {
        "id": "0FODg-II44Zr",
        "colab_type": "code",
        "outputId": "bc4c5277-e9f7-4327-fd62-c339b1a1bf7e",
        "colab": {
          "base_uri": "https://localhost:8080/",
          "height": 1000
        }
      },
      "source": [
        "#Create three models with dropout rates of .2, .5, and .8\n",
        "\n",
        "dpt2_model = models.Sequential()\n",
        "dpt2_model.add(layers.Dense(16, activation='relu', input_shape=(10000,)))\n",
        "dpt2_model.add(layers.Dropout(0.2))\n",
        "dpt2_model.add(layers.Dense(16, activation='relu'))\n",
        "dpt2_model.add(layers.Dropout(0.2))\n",
        "dpt2_model.add(layers.Dense(1, activation='sigmoid'))\n",
        "\n",
        "dpt2_model.compile(optimizer='rmsprop',\n",
        "                  loss='binary_crossentropy',\n",
        "                  metrics=['acc'])\n",
        "\n",
        "dpt2_model_hist = dpt2_model.fit(partial_x_train, partial_y_train,\n",
        "                               epochs=20,\n",
        "                               batch_size=512,\n",
        "                               validation_data=(x_val, y_val))\n",
        "\n",
        "dpt5_model = models.Sequential()\n",
        "dpt5_model.add(layers.Dense(16, activation='relu', input_shape=(10000,)))\n",
        "dpt5_model.add(layers.Dropout(0.5))\n",
        "dpt5_model.add(layers.Dense(16, activation='relu'))\n",
        "dpt5_model.add(layers.Dropout(0.5))\n",
        "dpt5_model.add(layers.Dense(1, activation='sigmoid'))\n",
        "\n",
        "dpt5_model.compile(optimizer='rmsprop',\n",
        "                  loss='binary_crossentropy',\n",
        "                  metrics=['acc'])\n",
        "\n",
        "dpt5_model_hist = dpt5_model.fit(partial_x_train, partial_y_train,\n",
        "                               epochs=20,\n",
        "                               batch_size=512,\n",
        "                               validation_data=(x_val, y_val))\n",
        "\n",
        "dpt8_model = models.Sequential()\n",
        "dpt8_model.add(layers.Dense(16, activation='relu', input_shape=(10000,)))\n",
        "dpt8_model.add(layers.Dropout(0.8))\n",
        "dpt8_model.add(layers.Dense(16, activation='relu'))\n",
        "dpt8_model.add(layers.Dropout(0.8))\n",
        "dpt8_model.add(layers.Dense(1, activation='sigmoid'))\n",
        "\n",
        "dpt8_model.compile(optimizer='rmsprop',\n",
        "                  loss='binary_crossentropy',\n",
        "                  metrics=['acc'])\n",
        "\n",
        "dpt8_model_hist = dpt8_model.fit(partial_x_train, partial_y_train,\n",
        "                               epochs=20,\n",
        "                               batch_size=512,\n",
        "                               validation_data=(x_val, y_val))"
      ],
      "execution_count": 10,
      "outputs": [
        {
          "output_type": "stream",
          "text": [
            "W0717 22:09:42.651504 139943469377408 deprecation.py:506] From /usr/local/lib/python3.6/dist-packages/keras/backend/tensorflow_backend.py:3445: calling dropout (from tensorflow.python.ops.nn_ops) with keep_prob is deprecated and will be removed in a future version.\n",
            "Instructions for updating:\n",
            "Please use `rate` instead of `keep_prob`. Rate should be set to `rate = 1 - keep_prob`.\n"
          ],
          "name": "stderr"
        },
        {
          "output_type": "stream",
          "text": [
            "Train on 15000 samples, validate on 10000 samples\n",
            "Epoch 1/20\n",
            "15000/15000 [==============================] - 2s 121us/step - loss: 0.5563 - acc: 0.7349 - val_loss: 0.4128 - val_acc: 0.8665\n",
            "Epoch 2/20\n",
            "15000/15000 [==============================] - 1s 92us/step - loss: 0.3818 - acc: 0.8614 - val_loss: 0.3246 - val_acc: 0.8858\n",
            "Epoch 3/20\n",
            "15000/15000 [==============================] - 1s 92us/step - loss: 0.2925 - acc: 0.8993 - val_loss: 0.2882 - val_acc: 0.8900\n",
            "Epoch 4/20\n",
            "15000/15000 [==============================] - 1s 92us/step - loss: 0.2405 - acc: 0.9223 - val_loss: 0.2728 - val_acc: 0.8913\n",
            "Epoch 5/20\n",
            "15000/15000 [==============================] - 1s 92us/step - loss: 0.1997 - acc: 0.9335 - val_loss: 0.2811 - val_acc: 0.8857\n",
            "Epoch 6/20\n",
            "15000/15000 [==============================] - 1s 92us/step - loss: 0.1680 - acc: 0.9449 - val_loss: 0.2793 - val_acc: 0.8904\n",
            "Epoch 7/20\n",
            "15000/15000 [==============================] - 1s 92us/step - loss: 0.1395 - acc: 0.9559 - val_loss: 0.2915 - val_acc: 0.8881\n",
            "Epoch 8/20\n",
            "15000/15000 [==============================] - 1s 91us/step - loss: 0.1186 - acc: 0.9653 - val_loss: 0.3122 - val_acc: 0.8841\n",
            "Epoch 9/20\n",
            "15000/15000 [==============================] - 1s 92us/step - loss: 0.0990 - acc: 0.9701 - val_loss: 0.3467 - val_acc: 0.8799\n",
            "Epoch 10/20\n",
            "15000/15000 [==============================] - 1s 91us/step - loss: 0.0821 - acc: 0.9771 - val_loss: 0.3466 - val_acc: 0.8844\n",
            "Epoch 11/20\n",
            "15000/15000 [==============================] - 1s 91us/step - loss: 0.0664 - acc: 0.9811 - val_loss: 0.3850 - val_acc: 0.8818\n",
            "Epoch 12/20\n",
            "15000/15000 [==============================] - 1s 92us/step - loss: 0.0585 - acc: 0.9830 - val_loss: 0.4145 - val_acc: 0.8815\n",
            "Epoch 13/20\n",
            "15000/15000 [==============================] - 1s 92us/step - loss: 0.0433 - acc: 0.9885 - val_loss: 0.4671 - val_acc: 0.8782\n",
            "Epoch 14/20\n",
            "15000/15000 [==============================] - 1s 91us/step - loss: 0.0387 - acc: 0.9897 - val_loss: 0.5242 - val_acc: 0.8703\n",
            "Epoch 15/20\n",
            "15000/15000 [==============================] - 1s 92us/step - loss: 0.0316 - acc: 0.9913 - val_loss: 0.5284 - val_acc: 0.8754\n",
            "Epoch 16/20\n",
            "15000/15000 [==============================] - 1s 91us/step - loss: 0.0271 - acc: 0.9930 - val_loss: 0.5355 - val_acc: 0.8781\n",
            "Epoch 17/20\n",
            "15000/15000 [==============================] - 1s 91us/step - loss: 0.0193 - acc: 0.9955 - val_loss: 0.6106 - val_acc: 0.8764\n",
            "Epoch 18/20\n",
            "15000/15000 [==============================] - 1s 91us/step - loss: 0.0180 - acc: 0.9962 - val_loss: 0.6333 - val_acc: 0.8771\n",
            "Epoch 19/20\n",
            "15000/15000 [==============================] - 1s 92us/step - loss: 0.0146 - acc: 0.9970 - val_loss: 0.6736 - val_acc: 0.8757\n",
            "Epoch 20/20\n",
            "15000/15000 [==============================] - 1s 91us/step - loss: 0.0143 - acc: 0.9969 - val_loss: 0.7037 - val_acc: 0.8755\n",
            "Train on 15000 samples, validate on 10000 samples\n",
            "Epoch 1/20\n",
            "15000/15000 [==============================] - 2s 122us/step - loss: 0.6367 - acc: 0.6275 - val_loss: 0.5386 - val_acc: 0.8036\n",
            "Epoch 2/20\n",
            "15000/15000 [==============================] - 1s 90us/step - loss: 0.5165 - acc: 0.7611 - val_loss: 0.4035 - val_acc: 0.8740\n",
            "Epoch 3/20\n",
            "15000/15000 [==============================] - 1s 91us/step - loss: 0.4263 - acc: 0.8269 - val_loss: 0.3400 - val_acc: 0.8852\n",
            "Epoch 4/20\n",
            "15000/15000 [==============================] - 1s 91us/step - loss: 0.3670 - acc: 0.8589 - val_loss: 0.3087 - val_acc: 0.8828\n",
            "Epoch 5/20\n",
            "15000/15000 [==============================] - 1s 91us/step - loss: 0.3174 - acc: 0.8826 - val_loss: 0.2867 - val_acc: 0.8873\n",
            "Epoch 6/20\n",
            "15000/15000 [==============================] - 1s 91us/step - loss: 0.2750 - acc: 0.8998 - val_loss: 0.2804 - val_acc: 0.8849\n",
            "Epoch 7/20\n",
            "15000/15000 [==============================] - 1s 92us/step - loss: 0.2455 - acc: 0.9141 - val_loss: 0.2803 - val_acc: 0.8874\n",
            "Epoch 8/20\n",
            "15000/15000 [==============================] - 1s 91us/step - loss: 0.2160 - acc: 0.9262 - val_loss: 0.2820 - val_acc: 0.8920\n",
            "Epoch 9/20\n",
            "15000/15000 [==============================] - 1s 92us/step - loss: 0.1943 - acc: 0.9336 - val_loss: 0.2985 - val_acc: 0.8883\n",
            "Epoch 10/20\n",
            "15000/15000 [==============================] - 1s 91us/step - loss: 0.1760 - acc: 0.9423 - val_loss: 0.3078 - val_acc: 0.8910\n",
            "Epoch 11/20\n",
            "15000/15000 [==============================] - 1s 91us/step - loss: 0.1517 - acc: 0.9477 - val_loss: 0.3278 - val_acc: 0.8894\n",
            "Epoch 12/20\n",
            "15000/15000 [==============================] - 1s 91us/step - loss: 0.1392 - acc: 0.9525 - val_loss: 0.3507 - val_acc: 0.8898\n",
            "Epoch 13/20\n",
            "15000/15000 [==============================] - 1s 91us/step - loss: 0.1255 - acc: 0.9571 - val_loss: 0.3876 - val_acc: 0.8871\n",
            "Epoch 14/20\n",
            "15000/15000 [==============================] - 1s 91us/step - loss: 0.1138 - acc: 0.9614 - val_loss: 0.3948 - val_acc: 0.8869\n",
            "Epoch 15/20\n",
            "15000/15000 [==============================] - 1s 91us/step - loss: 0.1117 - acc: 0.9622 - val_loss: 0.4187 - val_acc: 0.8895\n",
            "Epoch 16/20\n",
            "15000/15000 [==============================] - 1s 90us/step - loss: 0.1014 - acc: 0.9664 - val_loss: 0.4423 - val_acc: 0.8877\n",
            "Epoch 17/20\n",
            "15000/15000 [==============================] - 1s 90us/step - loss: 0.0966 - acc: 0.9647 - val_loss: 0.4630 - val_acc: 0.8886\n",
            "Epoch 18/20\n",
            "15000/15000 [==============================] - 1s 91us/step - loss: 0.0859 - acc: 0.9685 - val_loss: 0.4746 - val_acc: 0.8890\n",
            "Epoch 19/20\n",
            "15000/15000 [==============================] - 1s 91us/step - loss: 0.0855 - acc: 0.9679 - val_loss: 0.5017 - val_acc: 0.8859\n",
            "Epoch 20/20\n",
            "15000/15000 [==============================] - 1s 92us/step - loss: 0.0804 - acc: 0.9703 - val_loss: 0.5333 - val_acc: 0.8859\n"
          ],
          "name": "stdout"
        },
        {
          "output_type": "stream",
          "text": [
            "W0717 22:10:39.142354 139943469377408 nn_ops.py:4224] Large dropout rate: 0.8 (>0.5). In TensorFlow 2.x, dropout() uses dropout rate instead of keep_prob. Please ensure that this is intended.\n",
            "W0717 22:10:39.173401 139943469377408 nn_ops.py:4224] Large dropout rate: 0.8 (>0.5). In TensorFlow 2.x, dropout() uses dropout rate instead of keep_prob. Please ensure that this is intended.\n"
          ],
          "name": "stderr"
        },
        {
          "output_type": "stream",
          "text": [
            "Train on 15000 samples, validate on 10000 samples\n",
            "Epoch 1/20\n",
            "15000/15000 [==============================] - 2s 126us/step - loss: 0.6935 - acc: 0.5241 - val_loss: 0.6788 - val_acc: 0.6733\n",
            "Epoch 2/20\n",
            "15000/15000 [==============================] - 1s 91us/step - loss: 0.6821 - acc: 0.5459 - val_loss: 0.6570 - val_acc: 0.7564\n",
            "Epoch 3/20\n",
            "15000/15000 [==============================] - 1s 91us/step - loss: 0.6656 - acc: 0.5718 - val_loss: 0.6261 - val_acc: 0.8236\n",
            "Epoch 4/20\n",
            "15000/15000 [==============================] - 1s 91us/step - loss: 0.6408 - acc: 0.6087 - val_loss: 0.5902 - val_acc: 0.8425\n",
            "Epoch 5/20\n",
            "15000/15000 [==============================] - 1s 91us/step - loss: 0.6259 - acc: 0.6306 - val_loss: 0.5619 - val_acc: 0.8446\n",
            "Epoch 6/20\n",
            "15000/15000 [==============================] - 1s 91us/step - loss: 0.6065 - acc: 0.6538 - val_loss: 0.5283 - val_acc: 0.8632\n",
            "Epoch 7/20\n",
            "15000/15000 [==============================] - 1s 92us/step - loss: 0.5903 - acc: 0.6661 - val_loss: 0.5134 - val_acc: 0.8634\n",
            "Epoch 8/20\n",
            "15000/15000 [==============================] - 1s 91us/step - loss: 0.5750 - acc: 0.6893 - val_loss: 0.4962 - val_acc: 0.8588\n",
            "Epoch 9/20\n",
            "15000/15000 [==============================] - 1s 91us/step - loss: 0.5646 - acc: 0.6981 - val_loss: 0.4592 - val_acc: 0.8696\n",
            "Epoch 10/20\n",
            "15000/15000 [==============================] - 1s 91us/step - loss: 0.5507 - acc: 0.7107 - val_loss: 0.4324 - val_acc: 0.8718\n",
            "Epoch 11/20\n",
            "15000/15000 [==============================] - 1s 91us/step - loss: 0.5442 - acc: 0.7122 - val_loss: 0.4261 - val_acc: 0.8711\n",
            "Epoch 12/20\n",
            "15000/15000 [==============================] - 1s 91us/step - loss: 0.5278 - acc: 0.7226 - val_loss: 0.4138 - val_acc: 0.8721\n",
            "Epoch 13/20\n",
            "15000/15000 [==============================] - 1s 91us/step - loss: 0.5195 - acc: 0.7335 - val_loss: 0.3952 - val_acc: 0.8699\n",
            "Epoch 14/20\n",
            "15000/15000 [==============================] - 1s 91us/step - loss: 0.5177 - acc: 0.7393 - val_loss: 0.3922 - val_acc: 0.8615\n",
            "Epoch 15/20\n",
            "15000/15000 [==============================] - 1s 94us/step - loss: 0.5038 - acc: 0.7423 - val_loss: 0.3802 - val_acc: 0.8703\n",
            "Epoch 16/20\n",
            "15000/15000 [==============================] - 1s 93us/step - loss: 0.5075 - acc: 0.7386 - val_loss: 0.3811 - val_acc: 0.8661\n",
            "Epoch 17/20\n",
            "15000/15000 [==============================] - 1s 93us/step - loss: 0.4961 - acc: 0.7499 - val_loss: 0.3600 - val_acc: 0.8774\n",
            "Epoch 18/20\n",
            "15000/15000 [==============================] - 1s 93us/step - loss: 0.4935 - acc: 0.7531 - val_loss: 0.3527 - val_acc: 0.8731\n",
            "Epoch 19/20\n",
            "15000/15000 [==============================] - 1s 93us/step - loss: 0.4883 - acc: 0.7561 - val_loss: 0.3649 - val_acc: 0.8675\n",
            "Epoch 20/20\n",
            "15000/15000 [==============================] - 1s 92us/step - loss: 0.4772 - acc: 0.7653 - val_loss: 0.3624 - val_acc: 0.8668\n"
          ],
          "name": "stdout"
        }
      ]
    },
    {
      "cell_type": "code",
      "metadata": {
        "id": "91z0i2jF6f36",
        "colab_type": "code",
        "outputId": "ca9a2765-285e-4062-d4e3-3fac6b93c5c0",
        "colab": {
          "base_uri": "https://localhost:8080/",
          "height": 283
        }
      },
      "source": [
        "#Plot validation loss\n",
        "\n",
        "dpt2_model_val_loss = dpt2_model_hist.history['val_loss']\n",
        "dpt5_model_val_loss = dpt5_model_hist.history['val_loss']\n",
        "dpt8_model_val_loss = dpt8_model_hist.history['val_loss']\n",
        "\n",
        "plt.plot(epochs, original_val_loss, 'b+', label='Original model')\n",
        "plt.plot(epochs, dpt2_model_val_loss, 'bx', label='Dropout-regularized model (.2)')\n",
        "plt.plot(epochs, dpt5_model_val_loss, 'bo', label='Dropout-regularized model (.5)')\n",
        "plt.plot(epochs, dpt8_model_val_loss, 'bv', label='Dropout-regularized model (.8)')\n",
        "plt.xlabel('Epochs')\n",
        "plt.ylabel('Validation loss')\n",
        "plt.legend()\n",
        "\n",
        "plt.show()"
      ],
      "execution_count": 11,
      "outputs": [
        {
          "output_type": "display_data",
          "data": {
            "image/png": "[encoded data removed]",
            "text/plain": [
              "<Figure size 432x288 with 1 Axes>"
            ]
          },
          "metadata": {
            "tags": []
          }
        }
      ]
    },
    {
      "cell_type": "markdown",
      "metadata": {
        "id": "SPW5d5B3933X",
        "colab_type": "text"
      },
      "source": [
        "Now we train a final version of the model (with both dropout and L2 regularization), validate to find optimal number of epochs, and test against the test data."
      ]
    },
    {
      "cell_type": "code",
      "metadata": {
        "id": "XYXyme3B91aG",
        "colab_type": "code",
        "colab": {}
      },
      "source": [
        "#Using .5 dropout rate and L2 regularization\n",
        "final_model = models.Sequential()\n",
        "final_model.add(layers.Dense(16, kernel_regularizer=regularizers.l2(0.001), activation='relu', input_shape=(max_words,)))\n",
        "final_model.add(layers.Dropout(.5))\n",
        "final_model.add(layers.Dense(16, kernel_regularizer=regularizers.l2(0.001), activation='relu'))\n",
        "final_model.add(layers.Dropout(.5))\n",
        "final_model.add(layers.Dense(1, activation='sigmoid'))\n",
        "\n",
        "final_model.compile(optimizer='rmsprop',\n",
        "                       loss='binary_crossentropy',\n",
        "                       metrics=['acc'])"
      ],
      "execution_count": 0,
      "outputs": []
    },
    {
      "cell_type": "code",
      "metadata": {
        "id": "FLSGmETg7pTT",
        "colab_type": "code",
        "outputId": "d6b1e727-58b5-4764-e49e-38a040f7f89e",
        "colab": {
          "base_uri": "https://localhost:8080/",
          "height": 714
        }
      },
      "source": [
        "#Train model for 20 epochs\n",
        "final_model_hist = final_model.fit(partial_x_train, partial_y_train,\n",
        "                               epochs=20,\n",
        "                               batch_size=512,\n",
        "                               validation_data=(x_val, y_val))"
      ],
      "execution_count": 30,
      "outputs": [
        {
          "output_type": "stream",
          "text": [
            "Train on 15000 samples, validate on 10000 samples\n",
            "Epoch 1/20\n",
            "15000/15000 [==============================] - 2s 163us/step - loss: 0.6507 - acc: 0.6685 - val_loss: 0.5316 - val_acc: 0.8571\n",
            "Epoch 2/20\n",
            "15000/15000 [==============================] - 1s 98us/step - loss: 0.5177 - acc: 0.7951 - val_loss: 0.4293 - val_acc: 0.8795\n",
            "Epoch 3/20\n",
            "15000/15000 [==============================] - 1s 92us/step - loss: 0.4390 - acc: 0.8446 - val_loss: 0.3663 - val_acc: 0.8849\n",
            "Epoch 4/20\n",
            "15000/15000 [==============================] - 1s 93us/step - loss: 0.3942 - acc: 0.8671 - val_loss: 0.3406 - val_acc: 0.8880\n",
            "Epoch 5/20\n",
            "15000/15000 [==============================] - 1s 91us/step - loss: 0.3496 - acc: 0.8900 - val_loss: 0.3309 - val_acc: 0.8864\n",
            "Epoch 6/20\n",
            "15000/15000 [==============================] - 1s 90us/step - loss: 0.3234 - acc: 0.9021 - val_loss: 0.3312 - val_acc: 0.8836\n",
            "Epoch 7/20\n",
            "15000/15000 [==============================] - 1s 91us/step - loss: 0.3025 - acc: 0.9117 - val_loss: 0.3288 - val_acc: 0.8863\n",
            "Epoch 8/20\n",
            "15000/15000 [==============================] - 1s 90us/step - loss: 0.2809 - acc: 0.9211 - val_loss: 0.3255 - val_acc: 0.8890\n",
            "Epoch 9/20\n",
            "15000/15000 [==============================] - 1s 91us/step - loss: 0.2690 - acc: 0.9258 - val_loss: 0.3378 - val_acc: 0.8826\n",
            "Epoch 10/20\n",
            "15000/15000 [==============================] - 1s 90us/step - loss: 0.2529 - acc: 0.9339 - val_loss: 0.3568 - val_acc: 0.8863\n",
            "Epoch 11/20\n",
            "15000/15000 [==============================] - 1s 90us/step - loss: 0.2440 - acc: 0.9358 - val_loss: 0.3463 - val_acc: 0.8848\n",
            "Epoch 12/20\n",
            "15000/15000 [==============================] - 1s 91us/step - loss: 0.2350 - acc: 0.9389 - val_loss: 0.3927 - val_acc: 0.8670\n",
            "Epoch 13/20\n",
            "15000/15000 [==============================] - 1s 90us/step - loss: 0.2214 - acc: 0.9459 - val_loss: 0.3742 - val_acc: 0.8824\n",
            "Epoch 14/20\n",
            "15000/15000 [==============================] - 1s 91us/step - loss: 0.2214 - acc: 0.9459 - val_loss: 0.3911 - val_acc: 0.8818\n",
            "Epoch 15/20\n",
            "15000/15000 [==============================] - 1s 91us/step - loss: 0.2142 - acc: 0.9473 - val_loss: 0.3960 - val_acc: 0.8792\n",
            "Epoch 16/20\n",
            "15000/15000 [==============================] - 1s 91us/step - loss: 0.2109 - acc: 0.9496 - val_loss: 0.4140 - val_acc: 0.8807\n",
            "Epoch 17/20\n",
            "15000/15000 [==============================] - 1s 90us/step - loss: 0.1996 - acc: 0.9517 - val_loss: 0.4099 - val_acc: 0.8794\n",
            "Epoch 18/20\n",
            "15000/15000 [==============================] - 1s 91us/step - loss: 0.2006 - acc: 0.9522 - val_loss: 0.4256 - val_acc: 0.8780\n",
            "Epoch 19/20\n",
            "15000/15000 [==============================] - 1s 91us/step - loss: 0.1950 - acc: 0.9527 - val_loss: 0.4375 - val_acc: 0.8789\n",
            "Epoch 20/20\n",
            "15000/15000 [==============================] - 1s 90us/step - loss: 0.1948 - acc: 0.9541 - val_loss: 0.4379 - val_acc: 0.8774\n"
          ],
          "name": "stdout"
        }
      ]
    },
    {
      "cell_type": "code",
      "metadata": {
        "id": "a6XVgosiAenr",
        "colab_type": "code",
        "outputId": "e3087e8b-22f3-4678-f3ff-d4047ea3aae8",
        "colab": {
          "base_uri": "https://localhost:8080/",
          "height": 283
        }
      },
      "source": [
        "#Compare validation loss against original model\n",
        "final_model_val_loss = final_model_hist.history['val_loss']\n",
        "\n",
        "plt.plot(epochs, original_val_loss, 'b+', label='Original model')\n",
        "plt.plot(epochs, final_model_val_loss, 'bx', label='Final model')\n",
        "plt.xlabel('Epochs')\n",
        "plt.ylabel('Validation loss')\n",
        "plt.legend()\n",
        "\n",
        "plt.show()"
      ],
      "execution_count": 31,
      "outputs": [
        {
          "output_type": "display_data",
          "data": {
            "image/png": "[encoded data removed]",
            "text/plain": [
              "<Figure size 432x288 with 1 Axes>"
            ]
          },
          "metadata": {
            "tags": []
          }
        }
      ]
    },
    {
      "cell_type": "code",
      "metadata": {
        "id": "UftpAiA4_bU2",
        "colab_type": "code",
        "outputId": "b21dbf24-8e68-45ca-e80c-513601c758db",
        "colab": {
          "base_uri": "https://localhost:8080/",
          "height": 442
        }
      },
      "source": [
        "#Retrain final and original models to optimal number of epochs\n",
        "model.fit(x_train, y_train, epochs=4, batch_size=512)\n",
        "final_model.fit(x_train, y_train, epochs=8, batch_size=512)"
      ],
      "execution_count": 33,
      "outputs": [
        {
          "output_type": "stream",
          "text": [
            "Epoch 1/4\n",
            "25000/25000 [==============================] - 1s 57us/step - loss: 0.0094 - acc: 0.9980\n",
            "Epoch 2/4\n",
            "25000/25000 [==============================] - 1s 57us/step - loss: 0.0049 - acc: 0.9995\n",
            "Epoch 3/4\n",
            "25000/25000 [==============================] - 1s 57us/step - loss: 0.0068 - acc: 0.9988\n",
            "Epoch 4/4\n",
            "25000/25000 [==============================] - 1s 57us/step - loss: 0.0038 - acc: 0.9997\n",
            "Epoch 1/8\n",
            "25000/25000 [==============================] - 1s 58us/step - loss: 0.3102 - acc: 0.9144\n",
            "Epoch 2/8\n",
            "25000/25000 [==============================] - 1s 57us/step - loss: 0.2781 - acc: 0.9235\n",
            "Epoch 3/8\n",
            "25000/25000 [==============================] - 1s 58us/step - loss: 0.2615 - acc: 0.9280\n",
            "Epoch 4/8\n",
            "25000/25000 [==============================] - 1s 58us/step - loss: 0.2594 - acc: 0.9302\n",
            "Epoch 5/8\n",
            "25000/25000 [==============================] - 1s 58us/step - loss: 0.2526 - acc: 0.9328\n",
            "Epoch 6/8\n",
            "25000/25000 [==============================] - 1s 58us/step - loss: 0.2461 - acc: 0.9340\n",
            "Epoch 7/8\n",
            "25000/25000 [==============================] - 1s 58us/step - loss: 0.2417 - acc: 0.9362\n",
            "Epoch 8/8\n",
            "25000/25000 [==============================] - 1s 58us/step - loss: 0.2417 - acc: 0.9364\n"
          ],
          "name": "stdout"
        },
        {
          "output_type": "execute_result",
          "data": {
            "text/plain": [
              "<keras.callbacks.History at 0x7f46720b3c18>"
            ]
          },
          "metadata": {
            "tags": []
          },
          "execution_count": 33
        }
      ]
    },
    {
      "cell_type": "code",
      "metadata": {
        "id": "EidWwFdW_jJM",
        "colab_type": "code",
        "outputId": "50de1c57-8b78-4fd9-fe5e-abb1183e5a8d",
        "colab": {
          "base_uri": "https://localhost:8080/",
          "height": 85
        }
      },
      "source": [
        "#Compare test data\n",
        "original_results = model.evaluate(x_test, y_test)\n",
        "final_results = final_model.evaluate(x_test, y_test)\n",
        "\n",
        "print(\"Original model:\", original_results)\n",
        "print(\"Final model:\", final_results)"
      ],
      "execution_count": 34,
      "outputs": [
        {
          "output_type": "stream",
          "text": [
            "25000/25000 [==============================] - 2s 81us/step\n",
            "25000/25000 [==============================] - 2s 84us/step\n",
            "Original model: [1.1515536131596564, 0.84928]\n",
            "Final model: [0.41878357303619385, 0.87628]\n"
          ],
          "name": "stdout"
        }
      ]
    }
  ]
}