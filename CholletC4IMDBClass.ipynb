{
  "nbformat": 4,
  "nbformat_minor": 0,
  "metadata": {
    "colab": {
      "name": "CholletC4IMDBClass.ipynb",
      "version": "0.3.2",
      "provenance": [],
      "include_colab_link": true
    },
    "kernelspec": {
      "name": "python3",
      "display_name": "Python 3"
    }
  },
  "cells": [
    {
      "cell_type": "markdown",
      "metadata": {
        "id": "view-in-github",
        "colab_type": "text"
      },
      "source": [
        "<a href=\"https://colab.research.google.com/github/sgywhetstone/CholletDLWorkbooks/blob/master/CholletC4IMDBClass.ipynb\" target=\"_parent\"><img src=\"https://colab.research.google.com/assets/colab-badge.svg\" alt=\"Open In Colab\"/></a>"
      ]
    },
    {
      "cell_type": "markdown",
      "metadata": {
        "id": "x38Tp3OH-TYp",
        "colab_type": "text"
      },
      "source": [
        "\n",
        "Improving on the C3 IMBD classification model by using dropout and weight regularization \n",
        "\n",
        "First we experiment with larger and smaller models to see the effects of over/underfitting. Finding the existing size to be a reasonable compromise, we test different versions of regularization and dropout rates, before training a final model using both. "
      ]
    },
    {
      "cell_type": "code",
      "metadata": {
        "id": "cezSIJrz9xO2",
        "colab_type": "code",
        "colab": {}
      },
      "source": [
        "#Using the code from C3, prepare the dataset and generate the old model\n",
        "\n",
        "import keras\n",
        "import numpy as np\n",
        "keras.__version__\n",
        "\n",
        "#Set the number of words we keep from the reviews - e.g. if max_words = 10000, we keep only the top 10 000 most common words\n",
        "max_words = 10000\n",
        "\n",
        "from keras.datasets import imdb\n",
        "\n",
        "# save np.load\n",
        "np_load_old = np.load\n",
        "\n",
        "# modify the default parameters of np.load\n",
        "np.load = lambda *a,**k: np_load_old(*a, allow_pickle=True, **k)\n",
        "\n",
        "# call load_data with allow_pickle implicitly set to true\n",
        "(train_data, train_labels), (test_data, test_labels) = imdb.load_data(num_words= max_words)\n",
        "\n",
        "# restore np.load for future normal usage\n",
        "np.load = np_load_old\n",
        "\n",
        "#Encode the reviews via one-hot encoding\n",
        "def vectorize_sequences(sequences, dimension = max_words):  #One-hot function\n",
        "  results = np.zeros((len(sequences), dimension))\n",
        "  for i, sequence in enumerate(sequences):\n",
        "    results[i, sequence] = 1.\n",
        "  return results\n",
        "\n",
        "#Vectorize training and test data\n",
        "x_train = vectorize_sequences(train_data)\n",
        "x_test = vectorize_sequences(test_data)\n",
        "\n",
        "#Vectorize training and test labels\n",
        "y_train = np.asarray(train_labels).astype('float32')\n",
        "y_test = np.asarray(test_labels).astype('float32')\n",
        "\n",
        "\n",
        "#Create a 10k sample validation set\n",
        "x_val = x_train[:10000]\n",
        "partial_x_train = x_train[10000:]\n",
        "y_val = y_train[:10000]\n",
        "partial_y_train = y_train[10000:]"
      ],
      "execution_count": 0,
      "outputs": []
    },
    {
      "cell_type": "code",
      "metadata": {
        "id": "7loKCCMA_8vQ",
        "colab_type": "code",
        "colab": {}
      },
      "source": [
        "#Old Model\n",
        "from keras import models\n",
        "from keras import layers\n",
        "\n",
        "model = models.Sequential()\n",
        "model.add(layers.Dense(16, activation='relu', input_shape=(max_words,)))\n",
        "model.add(layers.Dense(16, activation='relu'))\n",
        "model.add(layers.Dense(1, activation='sigmoid'))\n",
        "\n",
        "model.compile(optimizer='rmsprop',\n",
        "                       loss='binary_crossentropy',\n",
        "                       metrics=['acc'])"
      ],
      "execution_count": 0,
      "outputs": []
    },
    {
      "cell_type": "code",
      "metadata": {
        "id": "YgEXQwYkADFm",
        "colab_type": "code",
        "colab": {}
      },
      "source": [
        "#Smaller Model\n",
        "small_model = models.Sequential()\n",
        "small_model.add(layers.Dense(4, activation='relu', input_shape=(max_words,)))\n",
        "small_model.add(layers.Dense(4, activation='relu'))\n",
        "small_model.add(layers.Dense(1, activation='sigmoid'))\n",
        "\n",
        "small_model.compile(optimizer='rmsprop',\n",
        "                       loss='binary_crossentropy',\n",
        "                       metrics=['acc'])"
      ],
      "execution_count": 0,
      "outputs": []
    },
    {
      "cell_type": "code",
      "metadata": {
        "id": "tRl9XzGPCPZ8",
        "colab_type": "code",
        "colab": {}
      },
      "source": [
        "#Larger Model\n",
        "large_model = models.Sequential()\n",
        "large_model.add(layers.Dense(512, activation='relu', input_shape=(max_words,)))\n",
        "large_model.add(layers.Dense(512, activation='relu'))\n",
        "large_model.add(layers.Dense(1, activation='sigmoid'))\n",
        "\n",
        "large_model.compile(optimizer='rmsprop',\n",
        "                       loss='binary_crossentropy',\n",
        "                       metrics=['acc'])"
      ],
      "execution_count": 0,
      "outputs": []
    },
    {
      "cell_type": "code",
      "metadata": {
        "id": "93yWIadRCnJz",
        "colab_type": "code",
        "outputId": "3b98e197-6be8-4d56-d60b-3a5bb6d9bee3",
        "colab": {
          "base_uri": "https://localhost:8080/",
          "height": 1000
        }
      },
      "source": [
        "#Train models and collect validation data\n",
        "\n",
        "model_hist = model.fit(x_train, y_train,\n",
        "                                   epochs=20,\n",
        "                                   batch_size=512,\n",
        "                                   validation_data=(x_val, y_val))\n",
        "\n",
        "small_model_hist = small_model.fit(x_train, y_train,\n",
        "                                       epochs=20,\n",
        "                                       batch_size=512,\n",
        "                                       validation_data=(x_val, y_val))\n",
        "\n",
        "large_model_hist = large_model.fit(x_train, y_train,\n",
        "                                     epochs=20,\n",
        "                                     batch_size=512,\n",
        "                                     validation_data=(x_val, y_val))"
      ],
      "execution_count": 33,
      "outputs": [
        {
          "output_type": "stream",
          "text": [
            "Train on 25000 samples, validate on 10000 samples\n",
            "Epoch 1/20\n",
            "25000/25000 [==============================] - 5s 199us/step - loss: 0.4519 - acc: 0.8185 - val_loss: 0.2812 - val_acc: 0.9106\n",
            "Epoch 2/20\n",
            "25000/25000 [==============================] - 4s 147us/step - loss: 0.2525 - acc: 0.9109 - val_loss: 0.1951 - val_acc: 0.9368\n",
            "Epoch 3/20\n",
            "25000/25000 [==============================] - 4s 149us/step - loss: 0.1975 - acc: 0.9287 - val_loss: 0.1514 - val_acc: 0.9536\n",
            "Epoch 4/20\n",
            "25000/25000 [==============================] - 4s 149us/step - loss: 0.1656 - acc: 0.9418 - val_loss: 0.1276 - val_acc: 0.9618\n",
            "Epoch 5/20\n",
            "25000/25000 [==============================] - 4s 148us/step - loss: 0.1471 - acc: 0.9466 - val_loss: 0.1106 - val_acc: 0.9672\n",
            "Epoch 6/20\n",
            "25000/25000 [==============================] - 4s 147us/step - loss: 0.1278 - acc: 0.9557 - val_loss: 0.0974 - val_acc: 0.9720\n",
            "Epoch 7/20\n",
            "25000/25000 [==============================] - 4s 150us/step - loss: 0.1146 - acc: 0.9597 - val_loss: 0.0865 - val_acc: 0.9756\n",
            "Epoch 8/20\n",
            "25000/25000 [==============================] - 4s 148us/step - loss: 0.1002 - acc: 0.9661 - val_loss: 0.0749 - val_acc: 0.9797\n",
            "Epoch 9/20\n",
            "25000/25000 [==============================] - 4s 149us/step - loss: 0.0895 - acc: 0.9706 - val_loss: 0.0748 - val_acc: 0.9766\n",
            "Epoch 10/20\n",
            "25000/25000 [==============================] - 4s 150us/step - loss: 0.0799 - acc: 0.9737 - val_loss: 0.0640 - val_acc: 0.9822\n",
            "Epoch 11/20\n",
            "25000/25000 [==============================] - 4s 151us/step - loss: 0.0707 - acc: 0.9769 - val_loss: 0.0491 - val_acc: 0.9873\n",
            "Epoch 12/20\n",
            "25000/25000 [==============================] - 4s 151us/step - loss: 0.0658 - acc: 0.9780 - val_loss: 0.0431 - val_acc: 0.9894\n",
            "Epoch 13/20\n",
            "25000/25000 [==============================] - 4s 150us/step - loss: 0.0560 - acc: 0.9822 - val_loss: 0.0372 - val_acc: 0.9922\n",
            "Epoch 14/20\n",
            "25000/25000 [==============================] - 4s 148us/step - loss: 0.0499 - acc: 0.9850 - val_loss: 0.0341 - val_acc: 0.9918\n",
            "Epoch 15/20\n",
            "25000/25000 [==============================] - 4s 149us/step - loss: 0.0444 - acc: 0.9870 - val_loss: 0.0284 - val_acc: 0.9946\n",
            "Epoch 16/20\n",
            "25000/25000 [==============================] - 4s 147us/step - loss: 0.0383 - acc: 0.9887 - val_loss: 0.0240 - val_acc: 0.9952\n",
            "Epoch 17/20\n",
            "25000/25000 [==============================] - 4s 149us/step - loss: 0.0324 - acc: 0.9910 - val_loss: 0.0200 - val_acc: 0.9963\n",
            "Epoch 18/20\n",
            "25000/25000 [==============================] - 4s 148us/step - loss: 0.0312 - acc: 0.9902 - val_loss: 0.0166 - val_acc: 0.9966\n",
            "Epoch 19/20\n",
            "25000/25000 [==============================] - 4s 147us/step - loss: 0.0230 - acc: 0.9940 - val_loss: 0.0132 - val_acc: 0.9979\n",
            "Epoch 20/20\n",
            "25000/25000 [==============================] - 4s 148us/step - loss: 0.0230 - acc: 0.9936 - val_loss: 0.0111 - val_acc: 0.9982\n",
            "Train on 25000 samples, validate on 10000 samples\n",
            "Epoch 1/20\n",
            "25000/25000 [==============================] - 4s 172us/step - loss: 0.5804 - acc: 0.7021 - val_loss: 0.5085 - val_acc: 0.7980\n",
            "Epoch 2/20\n",
            "25000/25000 [==============================] - 3s 126us/step - loss: 0.4843 - acc: 0.8450 - val_loss: 0.4509 - val_acc: 0.8869\n",
            "Epoch 3/20\n",
            "25000/25000 [==============================] - 3s 126us/step - loss: 0.4389 - acc: 0.8917 - val_loss: 0.4148 - val_acc: 0.9173\n",
            "Epoch 4/20\n",
            "25000/25000 [==============================] - 3s 127us/step - loss: 0.4077 - acc: 0.9146 - val_loss: 0.3875 - val_acc: 0.9373\n",
            "Epoch 5/20\n",
            "25000/25000 [==============================] - 3s 125us/step - loss: 0.3832 - acc: 0.9304 - val_loss: 0.3651 - val_acc: 0.9480\n",
            "Epoch 6/20\n",
            "25000/25000 [==============================] - 3s 127us/step - loss: 0.3619 - acc: 0.9420 - val_loss: 0.3468 - val_acc: 0.9613\n",
            "Epoch 7/20\n",
            "25000/25000 [==============================] - 3s 127us/step - loss: 0.3426 - acc: 0.9508 - val_loss: 0.3286 - val_acc: 0.9649\n",
            "Epoch 8/20\n",
            "25000/25000 [==============================] - 3s 125us/step - loss: 0.3261 - acc: 0.9558 - val_loss: 0.3131 - val_acc: 0.9692\n",
            "Epoch 9/20\n",
            "25000/25000 [==============================] - 3s 124us/step - loss: 0.3100 - acc: 0.9615 - val_loss: 0.2971 - val_acc: 0.9698\n",
            "Epoch 10/20\n",
            "25000/25000 [==============================] - 3s 124us/step - loss: 0.2957 - acc: 0.9654 - val_loss: 0.2839 - val_acc: 0.9743\n",
            "Epoch 11/20\n",
            "25000/25000 [==============================] - 3s 123us/step - loss: 0.2814 - acc: 0.9698 - val_loss: 0.2709 - val_acc: 0.9770\n",
            "Epoch 12/20\n",
            "25000/25000 [==============================] - 3s 126us/step - loss: 0.2684 - acc: 0.9719 - val_loss: 0.2607 - val_acc: 0.9790\n",
            "Epoch 13/20\n",
            "25000/25000 [==============================] - 3s 127us/step - loss: 0.2567 - acc: 0.9747 - val_loss: 0.2470 - val_acc: 0.9805\n",
            "Epoch 14/20\n",
            "25000/25000 [==============================] - 3s 127us/step - loss: 0.2455 - acc: 0.9755 - val_loss: 0.2362 - val_acc: 0.9806\n",
            "Epoch 15/20\n",
            "25000/25000 [==============================] - 3s 126us/step - loss: 0.2340 - acc: 0.9778 - val_loss: 0.2283 - val_acc: 0.9826\n",
            "Epoch 16/20\n",
            "25000/25000 [==============================] - 3s 126us/step - loss: 0.2237 - acc: 0.9806 - val_loss: 0.2172 - val_acc: 0.9835\n",
            "Epoch 17/20\n",
            "25000/25000 [==============================] - 3s 128us/step - loss: 0.2148 - acc: 0.9808 - val_loss: 0.2083 - val_acc: 0.9841\n",
            "Epoch 18/20\n",
            "25000/25000 [==============================] - 3s 127us/step - loss: 0.2051 - acc: 0.9827 - val_loss: 0.2037 - val_acc: 0.9839\n",
            "Epoch 19/20\n",
            "25000/25000 [==============================] - 3s 124us/step - loss: 0.1963 - acc: 0.9832 - val_loss: 0.1909 - val_acc: 0.9850\n",
            "Epoch 20/20\n",
            "25000/25000 [==============================] - 3s 126us/step - loss: 0.1889 - acc: 0.9838 - val_loss: 0.1861 - val_acc: 0.9852\n",
            "Train on 25000 samples, validate on 10000 samples\n",
            "Epoch 1/20\n",
            "25000/25000 [==============================] - 18s 713us/step - loss: 0.4682 - acc: 0.7993 - val_loss: 0.1835 - val_acc: 0.9405\n",
            "Epoch 2/20\n",
            "25000/25000 [==============================] - 17s 661us/step - loss: 0.2246 - acc: 0.9120 - val_loss: 0.1527 - val_acc: 0.9452\n",
            "Epoch 3/20\n",
            "25000/25000 [==============================] - 17s 661us/step - loss: 0.1315 - acc: 0.9522 - val_loss: 0.0461 - val_acc: 0.9902\n",
            "Epoch 4/20\n",
            "25000/25000 [==============================] - 16s 656us/step - loss: 0.0619 - acc: 0.9798 - val_loss: 0.2910 - val_acc: 0.8736\n",
            "Epoch 5/20\n",
            "25000/25000 [==============================] - 16s 658us/step - loss: 0.0778 - acc: 0.9816 - val_loss: 0.0089 - val_acc: 0.9996\n",
            "Epoch 6/20\n",
            "25000/25000 [==============================] - 16s 656us/step - loss: 0.0047 - acc: 0.9993 - val_loss: 7.0191e-04 - val_acc: 1.0000\n",
            "Epoch 7/20\n",
            "25000/25000 [==============================] - 16s 658us/step - loss: 0.0704 - acc: 0.9890 - val_loss: 7.5110e-04 - val_acc: 1.0000\n",
            "Epoch 8/20\n",
            "25000/25000 [==============================] - 16s 658us/step - loss: 0.0588 - acc: 0.9894 - val_loss: 8.5308e-04 - val_acc: 1.0000\n",
            "Epoch 9/20\n",
            "25000/25000 [==============================] - 16s 658us/step - loss: 4.7860e-04 - acc: 1.0000 - val_loss: 1.2316e-04 - val_acc: 1.0000\n",
            "Epoch 10/20\n",
            "25000/25000 [==============================] - 17s 660us/step - loss: 0.0222 - acc: 0.9966 - val_loss: 2.2187 - val_acc: 0.7419\n",
            "Epoch 11/20\n",
            "25000/25000 [==============================] - 17s 663us/step - loss: 0.0421 - acc: 0.9947 - val_loss: 0.0025 - val_acc: 0.9994\n",
            "Epoch 12/20\n",
            "25000/25000 [==============================] - 17s 661us/step - loss: 8.8845e-05 - acc: 1.0000 - val_loss: 1.2710e-05 - val_acc: 1.0000\n",
            "Epoch 13/20\n",
            "25000/25000 [==============================] - 17s 664us/step - loss: 0.0750 - acc: 0.9904 - val_loss: 5.3303e-04 - val_acc: 0.9999\n",
            "Epoch 14/20\n",
            "25000/25000 [==============================] - 17s 663us/step - loss: 0.0404 - acc: 0.9930 - val_loss: 4.9841e-04 - val_acc: 0.9999\n",
            "Epoch 15/20\n",
            "25000/25000 [==============================] - 16s 659us/step - loss: 1.8078e-04 - acc: 1.0000 - val_loss: 4.6699e-05 - val_acc: 1.0000\n",
            "Epoch 16/20\n",
            "25000/25000 [==============================] - 17s 661us/step - loss: 2.6608e-05 - acc: 1.0000 - val_loss: 6.3895e-06 - val_acc: 1.0000\n",
            "Epoch 17/20\n",
            "25000/25000 [==============================] - 17s 661us/step - loss: 0.0507 - acc: 0.9934 - val_loss: 1.8534e-04 - val_acc: 1.0000\n",
            "Epoch 18/20\n",
            "25000/25000 [==============================] - 17s 662us/step - loss: 0.0123 - acc: 0.9972 - val_loss: 1.7713e-04 - val_acc: 1.0000\n",
            "Epoch 19/20\n",
            "25000/25000 [==============================] - 17s 699us/step - loss: 0.0336 - acc: 0.9951 - val_loss: 2.1596e-04 - val_acc: 1.0000\n",
            "Epoch 20/20\n",
            "25000/25000 [==============================] - 18s 727us/step - loss: 6.9073e-04 - acc: 0.9998 - val_loss: 6.2333e-05 - val_acc: 1.0000\n"
          ],
          "name": "stdout"
        }
      ]
    },
    {
      "cell_type": "code",
      "metadata": {
        "id": "itJa_X40rlJU",
        "colab_type": "code",
        "colab": {
          "base_uri": "https://localhost:8080/",
          "height": 283
        },
        "outputId": "04273f2c-d890-4b66-a06f-0039fba6be19"
      },
      "source": [
        "#Plotting validation loss for all 3 models\n",
        "\n",
        "epochs = range(1, 21)\n",
        "original_val_loss = model_hist.history['val_loss']\n",
        "small_model_val_loss = small_model_hist.history['val_loss']\n",
        "large_model_val_loss = large_model_hist.history['val_loss']\n",
        "\n",
        "import matplotlib.pyplot as plt\n",
        "\n",
        "# b+ is for \"blue cross\"\n",
        "plt.plot(epochs, original_val_loss, 'b+', label='Original model')\n",
        "# \"bo\" is for \"blue dot\"\n",
        "plt.plot(epochs, small_model_val_loss, 'bo', label='Smaller model')\n",
        "# \"bx\" is for \"blue x\"\n",
        "plt.plot(epochs, large_model_val_loss, 'bx', label='Larger model')\n",
        "plt.xlabel('Epochs')\n",
        "plt.ylabel('Validation loss')\n",
        "plt.legend()\n",
        "\n",
        "plt.show()\n"
      ],
      "execution_count": 34,
      "outputs": [
        {
          "output_type": "display_data",
          "data": {
            "image/png": "[encoded data removed]",
            "text/plain": [
              "<Figure size 432x288 with 1 Axes>"
            ]
          },
          "metadata": {
            "tags": []
          }
        }
      ]
    },
    {
      "cell_type": "code",
      "metadata": {
        "id": "ZONfHEnZvbiX",
        "colab_type": "code",
        "colab": {
          "base_uri": "https://localhost:8080/",
          "height": 283
        },
        "outputId": "e912417f-e767-41f4-870a-c1faa950bc33"
      },
      "source": [
        "#Plotting training loss for all 3 models\n",
        "\n",
        "epochs = range(1, 21)\n",
        "original_train_loss = model_hist.history['loss']\n",
        "small_model_train_loss = small_model_hist.history['loss']\n",
        "large_model_train_loss = large_model_hist.history['loss']\n",
        "\n",
        "import matplotlib.pyplot as plt\n",
        "\n",
        "# b+ is for \"blue cross\"\n",
        "plt.plot(epochs, original_train_loss, 'b+', label='Original model')\n",
        "# \"bo\" is for \"blue dot\"\n",
        "plt.plot(epochs, small_model_train_loss, 'bo', label='Smaller model')\n",
        "# \"bx\" is for \"blue x\"\n",
        "plt.plot(epochs, large_model_train_loss, 'bx', label='Larger model')\n",
        "plt.xlabel('Epochs')\n",
        "plt.ylabel('Training loss')\n",
        "plt.legend()\n",
        "\n",
        "plt.show()"
      ],
      "execution_count": 35,
      "outputs": [
        {
          "output_type": "display_data",
          "data": {
            "image/png": "[encoded data removed]",
            "text/plain": [
              "<Figure size 432x288 with 1 Axes>"
            ]
          },
          "metadata": {
            "tags": []
          }
        }
      ]
    },
    {
      "cell_type": "markdown",
      "metadata": {
        "id": "bLgv6N-Swu6o",
        "colab_type": "text"
      },
      "source": [
        "Now we use regularization to the model - see notes for a discussion of regularization and kernel methods. \n",
        "\n",
        "We compare validation losses from original model with regularized version using three different regularizers. "
      ]
    },
    {
      "cell_type": "code",
      "metadata": {
        "id": "Q103w6rXxI44",
        "colab_type": "code",
        "colab": {
          "base_uri": "https://localhost:8080/",
          "height": 1000
        },
        "outputId": "6f2f611a-3d7f-4085-902b-e7751972675f"
      },
      "source": [
        "#Creating model with L1 regularization\n",
        "from keras import regularizers\n",
        "\n",
        "l1_model = models.Sequential()\n",
        "l1_model.add(layers.Dense(16, kernel_regularizer=regularizers.l1(0.001), activation='relu', input_shape=(10000,)))\n",
        "l1_model.add(layers.Dense(16, kernel_regularizer=regularizers.l1(0.001), activation='relu'))\n",
        "l1_model.add(layers.Dense(1, activation='sigmoid'))\n",
        "\n",
        "#Creating model with L2 regularization\n",
        "from keras import regularizers\n",
        "\n",
        "l2_model = models.Sequential()\n",
        "l2_model.add(layers.Dense(16, kernel_regularizer=regularizers.l2(0.001), activation='relu', input_shape=(10000,)))\n",
        "l2_model.add(layers.Dense(16, kernel_regularizer=regularizers.l2(0.001), activation='relu'))\n",
        "l2_model.add(layers.Dense(1, activation='sigmoid'))\n",
        "\n",
        "#Creating model with L1/L2 regularization\n",
        "from keras import regularizers\n",
        "\n",
        "l1_l2_model = models.Sequential()\n",
        "l1_l2_model.add(layers.Dense(16, kernel_regularizer=regularizers.l1_l2(0.001), activation='relu', input_shape=(10000,)))\n",
        "l1_l2_model.add(layers.Dense(16, kernel_regularizer=regularizers.l1_l2(0.001), activation='relu'))\n",
        "l1_l2_model.add(layers.Dense(1, activation='sigmoid'))\n",
        "\n",
        "#Compile models\n",
        "l1_model.compile(optimizer='rmsprop',\n",
        "                 loss='binary_crossentropy',\n",
        "                 metrics=['acc'])\n",
        "\n",
        "l1_model_hist = l1_model.fit(x_train, y_train,\n",
        "                             epochs=20,\n",
        "                             batch_size=512,\n",
        "                             validation_data=(x_val, y_val))\n",
        "\n",
        "l2_model.compile(optimizer='rmsprop',\n",
        "                 loss='binary_crossentropy',\n",
        "                 metrics=['acc'])\n",
        "\n",
        "l2_model_hist = l2_model.fit(x_train, y_train,\n",
        "                             epochs=20,\n",
        "                             batch_size=512,\n",
        "                             validation_data=(x_val, y_val))\n",
        "\n",
        "l1_l2_model.compile(optimizer='rmsprop',\n",
        "                 loss='binary_crossentropy',\n",
        "                 metrics=['acc'])\n",
        "\n",
        "l1_l2_model_hist = l1_l2_model.fit(x_train, y_train,\n",
        "                             epochs=20,\n",
        "                             batch_size=512,\n",
        "                             validation_data=(x_val, y_val))\n"
      ],
      "execution_count": 36,
      "outputs": [
        {
          "output_type": "stream",
          "text": [
            "Train on 25000 samples, validate on 10000 samples\n",
            "Epoch 1/20\n",
            "25000/25000 [==============================] - 5s 204us/step - loss: 0.9061 - acc: 0.7910 - val_loss: 0.6333 - val_acc: 0.8535\n",
            "Epoch 2/20\n",
            "25000/25000 [==============================] - 4s 148us/step - loss: 0.5950 - acc: 0.8633 - val_loss: 0.5769 - val_acc: 0.8633\n",
            "Epoch 3/20\n",
            "25000/25000 [==============================] - 4s 151us/step - loss: 0.5508 - acc: 0.8728 - val_loss: 0.5474 - val_acc: 0.8688\n",
            "Epoch 4/20\n",
            "25000/25000 [==============================] - 4s 151us/step - loss: 0.5275 - acc: 0.8774 - val_loss: 0.5209 - val_acc: 0.8808\n",
            "Epoch 5/20\n",
            "25000/25000 [==============================] - 4s 152us/step - loss: 0.5151 - acc: 0.8793 - val_loss: 0.4936 - val_acc: 0.8885\n",
            "Epoch 6/20\n",
            "25000/25000 [==============================] - 4s 150us/step - loss: 0.5041 - acc: 0.8826 - val_loss: 0.5253 - val_acc: 0.8670\n",
            "Epoch 7/20\n",
            "25000/25000 [==============================] - 4s 149us/step - loss: 0.4999 - acc: 0.8804 - val_loss: 0.5085 - val_acc: 0.8743\n",
            "Epoch 8/20\n",
            "25000/25000 [==============================] - 4s 148us/step - loss: 0.4886 - acc: 0.8867 - val_loss: 0.4697 - val_acc: 0.8985\n",
            "Epoch 9/20\n",
            "25000/25000 [==============================] - 4s 148us/step - loss: 0.4895 - acc: 0.8826 - val_loss: 0.4850 - val_acc: 0.8868\n",
            "Epoch 10/20\n",
            "25000/25000 [==============================] - 4s 149us/step - loss: 0.4803 - acc: 0.8878 - val_loss: 0.4586 - val_acc: 0.8993\n",
            "Epoch 11/20\n",
            "25000/25000 [==============================] - 4s 150us/step - loss: 0.4745 - acc: 0.8880 - val_loss: 0.4890 - val_acc: 0.8813\n",
            "Epoch 12/20\n",
            "25000/25000 [==============================] - 4s 147us/step - loss: 0.4740 - acc: 0.8899 - val_loss: 0.4512 - val_acc: 0.9027\n",
            "Epoch 13/20\n",
            "25000/25000 [==============================] - 4s 147us/step - loss: 0.4705 - acc: 0.8896 - val_loss: 0.4490 - val_acc: 0.9026\n",
            "Epoch 14/20\n",
            "25000/25000 [==============================] - 4s 147us/step - loss: 0.4645 - acc: 0.8915 - val_loss: 0.4486 - val_acc: 0.8977\n",
            "Epoch 15/20\n",
            "25000/25000 [==============================] - 4s 147us/step - loss: 0.4606 - acc: 0.8927 - val_loss: 0.4404 - val_acc: 0.9020\n",
            "Epoch 16/20\n",
            "25000/25000 [==============================] - 4s 147us/step - loss: 0.4564 - acc: 0.8942 - val_loss: 0.4428 - val_acc: 0.9002\n",
            "Epoch 17/20\n",
            "25000/25000 [==============================] - 4s 148us/step - loss: 0.4531 - acc: 0.8964 - val_loss: 0.4944 - val_acc: 0.8721\n",
            "Epoch 18/20\n",
            "25000/25000 [==============================] - 4s 147us/step - loss: 0.4492 - acc: 0.8967 - val_loss: 0.4264 - val_acc: 0.9102\n",
            "Epoch 19/20\n",
            "25000/25000 [==============================] - 4s 149us/step - loss: 0.4446 - acc: 0.8985 - val_loss: 0.4307 - val_acc: 0.9047\n",
            "Epoch 20/20\n",
            "25000/25000 [==============================] - 4s 147us/step - loss: 0.4435 - acc: 0.8994 - val_loss: 0.4636 - val_acc: 0.8845\n",
            "Train on 25000 samples, validate on 10000 samples\n",
            "Epoch 1/20\n",
            "25000/25000 [==============================] - 5s 199us/step - loss: 0.4961 - acc: 0.8196 - val_loss: 0.3418 - val_acc: 0.9086\n",
            "Epoch 2/20\n",
            "25000/25000 [==============================] - 4s 146us/step - loss: 0.3212 - acc: 0.9045 - val_loss: 0.2811 - val_acc: 0.9173\n",
            "Epoch 3/20\n",
            "25000/25000 [==============================] - 4s 145us/step - loss: 0.2777 - acc: 0.9176 - val_loss: 0.2434 - val_acc: 0.9380\n",
            "Epoch 4/20\n",
            "25000/25000 [==============================] - 4s 146us/step - loss: 0.2559 - acc: 0.9262 - val_loss: 0.2242 - val_acc: 0.9445\n",
            "Epoch 5/20\n",
            "25000/25000 [==============================] - 4s 148us/step - loss: 0.2416 - acc: 0.9318 - val_loss: 0.2254 - val_acc: 0.9418\n",
            "Epoch 6/20\n",
            "25000/25000 [==============================] - 4s 148us/step - loss: 0.2328 - acc: 0.9363 - val_loss: 0.2266 - val_acc: 0.9344\n",
            "Epoch 7/20\n",
            "25000/25000 [==============================] - 4s 149us/step - loss: 0.2278 - acc: 0.9376 - val_loss: 0.1950 - val_acc: 0.9566\n",
            "Epoch 8/20\n",
            "25000/25000 [==============================] - 4s 148us/step - loss: 0.2182 - acc: 0.9430 - val_loss: 0.2008 - val_acc: 0.9527\n",
            "Epoch 9/20\n",
            "25000/25000 [==============================] - 4s 148us/step - loss: 0.2174 - acc: 0.9401 - val_loss: 0.1840 - val_acc: 0.9625\n",
            "Epoch 10/20\n",
            "25000/25000 [==============================] - 4s 150us/step - loss: 0.2153 - acc: 0.9430 - val_loss: 0.1878 - val_acc: 0.9577\n",
            "Epoch 11/20\n",
            "25000/25000 [==============================] - 4s 148us/step - loss: 0.2101 - acc: 0.9442 - val_loss: 0.2149 - val_acc: 0.9387\n",
            "Epoch 12/20\n",
            "25000/25000 [==============================] - 4s 144us/step - loss: 0.2076 - acc: 0.9457 - val_loss: 0.1767 - val_acc: 0.9630\n",
            "Epoch 13/20\n",
            "25000/25000 [==============================] - 4s 148us/step - loss: 0.2071 - acc: 0.9448 - val_loss: 0.2244 - val_acc: 0.9336\n",
            "Epoch 14/20\n",
            "25000/25000 [==============================] - 4s 147us/step - loss: 0.1997 - acc: 0.9484 - val_loss: 0.2023 - val_acc: 0.9454\n",
            "Epoch 15/20\n",
            "25000/25000 [==============================] - 4s 148us/step - loss: 0.2022 - acc: 0.9471 - val_loss: 0.1737 - val_acc: 0.9629\n",
            "Epoch 16/20\n",
            "25000/25000 [==============================] - 4s 153us/step - loss: 0.1979 - acc: 0.9480 - val_loss: 0.1704 - val_acc: 0.9654\n",
            "Epoch 17/20\n",
            "25000/25000 [==============================] - 4s 152us/step - loss: 0.1955 - acc: 0.9502 - val_loss: 0.1638 - val_acc: 0.9684\n",
            "Epoch 18/20\n",
            "25000/25000 [==============================] - 4s 148us/step - loss: 0.1943 - acc: 0.9485 - val_loss: 0.1586 - val_acc: 0.9723\n",
            "Epoch 19/20\n",
            "25000/25000 [==============================] - 4s 148us/step - loss: 0.1947 - acc: 0.9489 - val_loss: 0.1781 - val_acc: 0.9588\n",
            "Epoch 20/20\n",
            "25000/25000 [==============================] - 4s 149us/step - loss: 0.1899 - acc: 0.9514 - val_loss: 0.1827 - val_acc: 0.9551\n",
            "Train on 25000 samples, validate on 10000 samples\n",
            "Epoch 1/20\n",
            "25000/25000 [==============================] - 5s 205us/step - loss: 1.1023 - acc: 0.7784 - val_loss: 0.8457 - val_acc: 0.7739\n",
            "Epoch 2/20\n",
            "25000/25000 [==============================] - 4s 147us/step - loss: 0.7725 - acc: 0.8400 - val_loss: 0.7636 - val_acc: 0.8108\n",
            "Epoch 3/20\n",
            "25000/25000 [==============================] - 4s 151us/step - loss: 0.7088 - acc: 0.8467 - val_loss: 0.6838 - val_acc: 0.8466\n",
            "Epoch 4/20\n",
            "25000/25000 [==============================] - 4s 150us/step - loss: 0.6683 - acc: 0.8516 - val_loss: 0.6365 - val_acc: 0.8654\n",
            "Epoch 5/20\n",
            "25000/25000 [==============================] - 4s 150us/step - loss: 0.6421 - acc: 0.8536 - val_loss: 0.6179 - val_acc: 0.8648\n",
            "Epoch 6/20\n",
            "25000/25000 [==============================] - 4s 150us/step - loss: 0.6162 - acc: 0.8575 - val_loss: 0.5987 - val_acc: 0.8645\n",
            "Epoch 7/20\n",
            "25000/25000 [==============================] - 4s 150us/step - loss: 0.5961 - acc: 0.8615 - val_loss: 0.5782 - val_acc: 0.8719\n",
            "Epoch 8/20\n",
            "25000/25000 [==============================] - 4s 149us/step - loss: 0.5853 - acc: 0.8630 - val_loss: 0.5625 - val_acc: 0.8797\n",
            "Epoch 9/20\n",
            "25000/25000 [==============================] - 4s 153us/step - loss: 0.5720 - acc: 0.8661 - val_loss: 0.5677 - val_acc: 0.8670\n",
            "Epoch 10/20\n",
            "25000/25000 [==============================] - 4s 153us/step - loss: 0.5610 - acc: 0.8704 - val_loss: 0.5380 - val_acc: 0.8818\n",
            "Epoch 11/20\n",
            "25000/25000 [==============================] - 4s 152us/step - loss: 0.5501 - acc: 0.8715 - val_loss: 0.5506 - val_acc: 0.8694\n",
            "Epoch 12/20\n",
            "25000/25000 [==============================] - 4s 147us/step - loss: 0.5414 - acc: 0.8752 - val_loss: 0.5227 - val_acc: 0.8885\n",
            "Epoch 13/20\n",
            "25000/25000 [==============================] - 4s 154us/step - loss: 0.5345 - acc: 0.8768 - val_loss: 0.5300 - val_acc: 0.8815\n",
            "Epoch 14/20\n",
            "25000/25000 [==============================] - 4s 149us/step - loss: 0.5231 - acc: 0.8812 - val_loss: 0.5110 - val_acc: 0.8897\n",
            "Epoch 15/20\n",
            "25000/25000 [==============================] - 4s 150us/step - loss: 0.5196 - acc: 0.8808 - val_loss: 0.5124 - val_acc: 0.8811\n",
            "Epoch 16/20\n",
            "25000/25000 [==============================] - 4s 148us/step - loss: 0.5159 - acc: 0.8801 - val_loss: 0.5015 - val_acc: 0.8947\n",
            "Epoch 17/20\n",
            "25000/25000 [==============================] - 4s 148us/step - loss: 0.5078 - acc: 0.8841 - val_loss: 0.4886 - val_acc: 0.8970\n",
            "Epoch 18/20\n",
            "25000/25000 [==============================] - 4s 148us/step - loss: 0.5047 - acc: 0.8838 - val_loss: 0.4927 - val_acc: 0.8891\n",
            "Epoch 19/20\n",
            "25000/25000 [==============================] - 4s 149us/step - loss: 0.4987 - acc: 0.8863 - val_loss: 0.5022 - val_acc: 0.8867\n",
            "Epoch 20/20\n",
            "25000/25000 [==============================] - 4s 150us/step - loss: 0.4960 - acc: 0.8872 - val_loss: 0.4935 - val_acc: 0.8857\n"
          ],
          "name": "stdout"
        }
      ]
    },
    {
      "cell_type": "code",
      "metadata": {
        "id": "SqS491Q36cCS",
        "colab_type": "code",
        "colab": {
          "base_uri": "https://localhost:8080/",
          "height": 283
        },
        "outputId": "e771b37e-0cd2-45f3-c1f0-22bf4d8029cb"
      },
      "source": [
        "#Plot validation loss\n",
        "l1_model_val_loss = l1_model_hist.history['val_loss']\n",
        "l2_model_val_loss = l2_model_hist.history['val_loss']\n",
        "l1_l2_model_val_loss = l1_l2_model_hist.history['val_loss']\n",
        "\n",
        "plt.plot(epochs, original_val_loss, 'b+', label='Original model')\n",
        "plt.plot(epochs, l1_model_val_loss, 'bo', label='L1-regularized model')\n",
        "plt.plot(epochs, l2_model_val_loss, 'bx', label='L2-regularized model')\n",
        "plt.plot(epochs, l1_l2_model_val_loss, 'bv', label='L1/L2-regularized model')\n",
        "plt.xlabel('Epochs')\n",
        "plt.ylabel('Validation loss')\n",
        "plt.legend()\n",
        "\n",
        "plt.show()"
      ],
      "execution_count": 37,
      "outputs": [
        {
          "output_type": "display_data",
          "data": {
            "image/png": "[encoded data removed]",
            "text/plain": [
              "<Figure size 432x288 with 1 Axes>"
            ]
          },
          "metadata": {
            "tags": []
          }
        }
      ]
    },
    {
      "cell_type": "markdown",
      "metadata": {
        "id": "bBi5uvWj5Agh",
        "colab_type": "text"
      },
      "source": [
        "Now we experiment with dropout. We compare validation losses from different dropout rates. "
      ]
    },
    {
      "cell_type": "code",
      "metadata": {
        "id": "0FODg-II44Zr",
        "colab_type": "code",
        "colab": {
          "base_uri": "https://localhost:8080/",
          "height": 1000
        },
        "outputId": "88874286-aef2-4b5f-84d9-87965bc223a2"
      },
      "source": [
        "#Create three models with dropout rates of .2, .5, and .8\n",
        "\n",
        "dpt2_model = models.Sequential()\n",
        "dpt2_model.add(layers.Dense(16, activation='relu', input_shape=(10000,)))\n",
        "dpt2_model.add(layers.Dropout(0.2))\n",
        "dpt2_model.add(layers.Dense(16, activation='relu'))\n",
        "dpt2_model.add(layers.Dropout(0.2))\n",
        "dpt2_model.add(layers.Dense(1, activation='sigmoid'))\n",
        "\n",
        "dpt2_model.compile(optimizer='rmsprop',\n",
        "                  loss='binary_crossentropy',\n",
        "                  metrics=['acc'])\n",
        "\n",
        "dpt2_model_hist = dpt2_model.fit(x_train, y_train,\n",
        "                               epochs=20,\n",
        "                               batch_size=512,\n",
        "                               validation_data=(x_val, y_val))\n",
        "\n",
        "dpt5_model = models.Sequential()\n",
        "dpt5_model.add(layers.Dense(16, activation='relu', input_shape=(10000,)))\n",
        "dpt5_model.add(layers.Dropout(0.5))\n",
        "dpt5_model.add(layers.Dense(16, activation='relu'))\n",
        "dpt5_model.add(layers.Dropout(0.5))\n",
        "dpt5_model.add(layers.Dense(1, activation='sigmoid'))\n",
        "\n",
        "dpt5_model.compile(optimizer='rmsprop',\n",
        "                  loss='binary_crossentropy',\n",
        "                  metrics=['acc'])\n",
        "\n",
        "dpt5_model_hist = dpt5_model.fit(x_train, y_train,\n",
        "                               epochs=20,\n",
        "                               batch_size=512,\n",
        "                               validation_data=(x_val, y_val))\n",
        "\n",
        "dpt8_model = models.Sequential()\n",
        "dpt8_model.add(layers.Dense(16, activation='relu', input_shape=(10000,)))\n",
        "dpt8_model.add(layers.Dropout(0.8))\n",
        "dpt8_model.add(layers.Dense(16, activation='relu'))\n",
        "dpt8_model.add(layers.Dropout(0.8))\n",
        "dpt8_model.add(layers.Dense(1, activation='sigmoid'))\n",
        "\n",
        "dpt8_model.compile(optimizer='rmsprop',\n",
        "                  loss='binary_crossentropy',\n",
        "                  metrics=['acc'])\n",
        "\n",
        "dpt8_model_hist = dpt8_model.fit(x_train, y_train,\n",
        "                               epochs=20,\n",
        "                               batch_size=512,\n",
        "                               validation_data=(x_val, y_val))"
      ],
      "execution_count": 38,
      "outputs": [
        {
          "output_type": "stream",
          "text": [
            "Train on 25000 samples, validate on 10000 samples\n",
            "Epoch 1/20\n",
            "25000/25000 [==============================] - 5s 202us/step - loss: 0.5104 - acc: 0.7743 - val_loss: 0.3521 - val_acc: 0.8791\n",
            "Epoch 2/20\n",
            "25000/25000 [==============================] - 4s 147us/step - loss: 0.3253 - acc: 0.8820 - val_loss: 0.2291 - val_acc: 0.9236\n",
            "Epoch 3/20\n",
            "25000/25000 [==============================] - 4s 149us/step - loss: 0.2466 - acc: 0.9115 - val_loss: 0.1693 - val_acc: 0.9463\n",
            "Epoch 4/20\n",
            "25000/25000 [==============================] - 4s 148us/step - loss: 0.2024 - acc: 0.9312 - val_loss: 0.1449 - val_acc: 0.9517\n",
            "Epoch 5/20\n",
            "25000/25000 [==============================] - 4s 148us/step - loss: 0.1691 - acc: 0.9426 - val_loss: 0.1112 - val_acc: 0.9648\n",
            "Epoch 6/20\n",
            "25000/25000 [==============================] - 4s 149us/step - loss: 0.1429 - acc: 0.9510 - val_loss: 0.1095 - val_acc: 0.9645\n",
            "Epoch 7/20\n",
            "25000/25000 [==============================] - 4s 151us/step - loss: 0.1235 - acc: 0.9587 - val_loss: 0.0789 - val_acc: 0.9756\n",
            "Epoch 8/20\n",
            "25000/25000 [==============================] - 4s 151us/step - loss: 0.1004 - acc: 0.9676 - val_loss: 0.0608 - val_acc: 0.9828\n",
            "Epoch 9/20\n",
            "25000/25000 [==============================] - 4s 150us/step - loss: 0.0856 - acc: 0.9730 - val_loss: 0.0494 - val_acc: 0.9872\n",
            "Epoch 10/20\n",
            "25000/25000 [==============================] - 4s 148us/step - loss: 0.0719 - acc: 0.9776 - val_loss: 0.0393 - val_acc: 0.9912\n",
            "Epoch 11/20\n",
            "25000/25000 [==============================] - 4s 145us/step - loss: 0.0593 - acc: 0.9818 - val_loss: 0.0364 - val_acc: 0.9911\n",
            "Epoch 12/20\n",
            "25000/25000 [==============================] - 4s 148us/step - loss: 0.0481 - acc: 0.9852 - val_loss: 0.0249 - val_acc: 0.9948\n",
            "Epoch 13/20\n",
            "25000/25000 [==============================] - 4s 150us/step - loss: 0.0446 - acc: 0.9866 - val_loss: 0.0230 - val_acc: 0.9958\n",
            "Epoch 14/20\n",
            "25000/25000 [==============================] - 4s 148us/step - loss: 0.0345 - acc: 0.9906 - val_loss: 0.0222 - val_acc: 0.9947\n",
            "Epoch 15/20\n",
            "25000/25000 [==============================] - 4s 148us/step - loss: 0.0332 - acc: 0.9909 - val_loss: 0.0157 - val_acc: 0.9969\n",
            "Epoch 16/20\n",
            "25000/25000 [==============================] - 4s 148us/step - loss: 0.0269 - acc: 0.9928 - val_loss: 0.0143 - val_acc: 0.9971\n",
            "Epoch 17/20\n",
            "25000/25000 [==============================] - 4s 149us/step - loss: 0.0252 - acc: 0.9936 - val_loss: 0.0109 - val_acc: 0.9981\n",
            "Epoch 18/20\n",
            "25000/25000 [==============================] - 4s 144us/step - loss: 0.0212 - acc: 0.9954 - val_loss: 0.0090 - val_acc: 0.9980\n",
            "Epoch 19/20\n",
            "25000/25000 [==============================] - 4s 148us/step - loss: 0.0215 - acc: 0.9940 - val_loss: 0.0083 - val_acc: 0.9983\n",
            "Epoch 20/20\n",
            "25000/25000 [==============================] - 4s 148us/step - loss: 0.0211 - acc: 0.9943 - val_loss: 0.0214 - val_acc: 0.9952\n",
            "Train on 25000 samples, validate on 10000 samples\n",
            "Epoch 1/20\n",
            "25000/25000 [==============================] - 5s 210us/step - loss: 0.5921 - acc: 0.6734 - val_loss: 0.4402 - val_acc: 0.8671\n",
            "Epoch 2/20\n",
            "25000/25000 [==============================] - 4s 148us/step - loss: 0.4435 - acc: 0.8195 - val_loss: 0.3044 - val_acc: 0.9133\n",
            "Epoch 3/20\n",
            "25000/25000 [==============================] - 4s 149us/step - loss: 0.3625 - acc: 0.8706 - val_loss: 0.2356 - val_acc: 0.9274\n",
            "Epoch 4/20\n",
            "25000/25000 [==============================] - 4s 148us/step - loss: 0.3070 - acc: 0.8955 - val_loss: 0.1886 - val_acc: 0.9404\n",
            "Epoch 5/20\n",
            "25000/25000 [==============================] - 4s 148us/step - loss: 0.2629 - acc: 0.9120 - val_loss: 0.1568 - val_acc: 0.9462\n",
            "Epoch 6/20\n",
            "25000/25000 [==============================] - 4s 149us/step - loss: 0.2342 - acc: 0.9235 - val_loss: 0.1354 - val_acc: 0.9564\n",
            "Epoch 7/20\n",
            "25000/25000 [==============================] - 4s 148us/step - loss: 0.2082 - acc: 0.9322 - val_loss: 0.1187 - val_acc: 0.9631\n",
            "Epoch 8/20\n",
            "25000/25000 [==============================] - 4s 148us/step - loss: 0.1891 - acc: 0.9378 - val_loss: 0.1059 - val_acc: 0.9657\n",
            "Epoch 9/20\n",
            "25000/25000 [==============================] - 4s 149us/step - loss: 0.1763 - acc: 0.9420 - val_loss: 0.0955 - val_acc: 0.9701\n",
            "Epoch 10/20\n",
            "25000/25000 [==============================] - 4s 148us/step - loss: 0.1626 - acc: 0.9464 - val_loss: 0.0832 - val_acc: 0.9731\n",
            "Epoch 11/20\n",
            "25000/25000 [==============================] - 4s 148us/step - loss: 0.1536 - acc: 0.9486 - val_loss: 0.0859 - val_acc: 0.9717\n",
            "Epoch 12/20\n",
            "25000/25000 [==============================] - 4s 147us/step - loss: 0.1401 - acc: 0.9541 - val_loss: 0.0704 - val_acc: 0.9794\n",
            "Epoch 13/20\n",
            "25000/25000 [==============================] - 4s 148us/step - loss: 0.1333 - acc: 0.9563 - val_loss: 0.0689 - val_acc: 0.9812\n",
            "Epoch 14/20\n",
            "25000/25000 [==============================] - 4s 146us/step - loss: 0.1276 - acc: 0.9574 - val_loss: 0.0614 - val_acc: 0.9837\n",
            "Epoch 15/20\n",
            "25000/25000 [==============================] - 4s 147us/step - loss: 0.1216 - acc: 0.9589 - val_loss: 0.0594 - val_acc: 0.9824\n",
            "Epoch 16/20\n",
            "25000/25000 [==============================] - 4s 146us/step - loss: 0.1186 - acc: 0.9586 - val_loss: 0.0581 - val_acc: 0.9838\n",
            "Epoch 17/20\n",
            "25000/25000 [==============================] - 4s 149us/step - loss: 0.1132 - acc: 0.9621 - val_loss: 0.0534 - val_acc: 0.9840\n",
            "Epoch 18/20\n",
            "25000/25000 [==============================] - 4s 147us/step - loss: 0.1172 - acc: 0.9605 - val_loss: 0.0537 - val_acc: 0.9858\n",
            "Epoch 19/20\n",
            "25000/25000 [==============================] - 4s 150us/step - loss: 0.1090 - acc: 0.9617 - val_loss: 0.0491 - val_acc: 0.9862\n",
            "Epoch 20/20\n",
            "25000/25000 [==============================] - 4s 150us/step - loss: 0.1069 - acc: 0.9636 - val_loss: 0.0439 - val_acc: 0.9872\n"
          ],
          "name": "stdout"
        },
        {
          "output_type": "stream",
          "text": [
            "W0715 23:42:49.650010 140572917438336 nn_ops.py:4224] Large dropout rate: 0.8 (>0.5). In TensorFlow 2.x, dropout() uses dropout rate instead of keep_prob. Please ensure that this is intended.\n",
            "W0715 23:42:49.685447 140572917438336 nn_ops.py:4224] Large dropout rate: 0.8 (>0.5). In TensorFlow 2.x, dropout() uses dropout rate instead of keep_prob. Please ensure that this is intended.\n"
          ],
          "name": "stderr"
        },
        {
          "output_type": "stream",
          "text": [
            "Train on 25000 samples, validate on 10000 samples\n",
            "Epoch 1/20\n",
            "25000/25000 [==============================] - 5s 210us/step - loss: 0.6949 - acc: 0.5123 - val_loss: 0.6823 - val_acc: 0.7007\n",
            "Epoch 2/20\n",
            "25000/25000 [==============================] - 4s 148us/step - loss: 0.6777 - acc: 0.5680 - val_loss: 0.6371 - val_acc: 0.7851\n",
            "Epoch 3/20\n",
            "25000/25000 [==============================] - 4s 148us/step - loss: 0.6550 - acc: 0.6180 - val_loss: 0.5936 - val_acc: 0.8408\n",
            "Epoch 4/20\n",
            "25000/25000 [==============================] - 4s 145us/step - loss: 0.6306 - acc: 0.6518 - val_loss: 0.5421 - val_acc: 0.8599\n",
            "Epoch 5/20\n",
            "25000/25000 [==============================] - 4s 145us/step - loss: 0.6110 - acc: 0.6683 - val_loss: 0.5143 - val_acc: 0.8781\n",
            "Epoch 6/20\n",
            "25000/25000 [==============================] - 4s 145us/step - loss: 0.5934 - acc: 0.6803 - val_loss: 0.4857 - val_acc: 0.8838\n",
            "Epoch 7/20\n",
            "25000/25000 [==============================] - 4s 147us/step - loss: 0.5823 - acc: 0.6933 - val_loss: 0.4614 - val_acc: 0.8821\n",
            "Epoch 8/20\n",
            "25000/25000 [==============================] - 4s 148us/step - loss: 0.5687 - acc: 0.7055 - val_loss: 0.4243 - val_acc: 0.8913\n",
            "Epoch 9/20\n",
            "25000/25000 [==============================] - 4s 147us/step - loss: 0.5594 - acc: 0.7123 - val_loss: 0.4101 - val_acc: 0.8935\n",
            "Epoch 10/20\n",
            "25000/25000 [==============================] - 4s 147us/step - loss: 0.5517 - acc: 0.7204 - val_loss: 0.3907 - val_acc: 0.8990\n",
            "Epoch 11/20\n",
            "25000/25000 [==============================] - 4s 148us/step - loss: 0.5424 - acc: 0.7314 - val_loss: 0.3929 - val_acc: 0.8961\n",
            "Epoch 12/20\n",
            "25000/25000 [==============================] - 4s 147us/step - loss: 0.5323 - acc: 0.7424 - val_loss: 0.3626 - val_acc: 0.9025\n",
            "Epoch 13/20\n",
            "25000/25000 [==============================] - 4s 148us/step - loss: 0.5280 - acc: 0.7428 - val_loss: 0.3574 - val_acc: 0.9021\n",
            "Epoch 14/20\n",
            "25000/25000 [==============================] - 4s 149us/step - loss: 0.5183 - acc: 0.7511 - val_loss: 0.3445 - val_acc: 0.9004\n",
            "Epoch 15/20\n",
            "25000/25000 [==============================] - 4s 148us/step - loss: 0.5189 - acc: 0.7546 - val_loss: 0.3343 - val_acc: 0.9016\n",
            "Epoch 16/20\n",
            "25000/25000 [==============================] - 4s 147us/step - loss: 0.5126 - acc: 0.7564 - val_loss: 0.3318 - val_acc: 0.9033\n",
            "Epoch 17/20\n",
            "25000/25000 [==============================] - 4s 149us/step - loss: 0.5033 - acc: 0.7620 - val_loss: 0.3142 - val_acc: 0.9069\n",
            "Epoch 18/20\n",
            "25000/25000 [==============================] - 4s 149us/step - loss: 0.5057 - acc: 0.7611 - val_loss: 0.3252 - val_acc: 0.9031\n",
            "Epoch 19/20\n",
            "25000/25000 [==============================] - 4s 150us/step - loss: 0.4992 - acc: 0.7660 - val_loss: 0.3142 - val_acc: 0.9070\n",
            "Epoch 20/20\n",
            "25000/25000 [==============================] - 4s 147us/step - loss: 0.4990 - acc: 0.7650 - val_loss: 0.3097 - val_acc: 0.9075\n"
          ],
          "name": "stdout"
        }
      ]
    },
    {
      "cell_type": "code",
      "metadata": {
        "id": "91z0i2jF6f36",
        "colab_type": "code",
        "colab": {
          "base_uri": "https://localhost:8080/",
          "height": 283
        },
        "outputId": "b1fcd323-1713-4446-ff72-e4a7e827d73e"
      },
      "source": [
        "#Plot validation loss\n",
        "\n",
        "dpt2_model_val_loss = dpt2_model_hist.history['val_loss']\n",
        "dpt5_model_val_loss = dpt5_model_hist.history['val_loss']\n",
        "dpt8_model_val_loss = dpt8_model_hist.history['val_loss']\n",
        "\n",
        "plt.plot(epochs, original_val_loss, 'b+', label='Original model')\n",
        "plt.plot(epochs, dpt2_model_val_loss, 'bx', label='Dropout-regularized model (.2)')\n",
        "plt.plot(epochs, dpt5_model_val_loss, 'bo', label='Dropout-regularized model (.5)')\n",
        "plt.plot(epochs, dpt8_model_val_loss, 'bv', label='Dropout-regularized model (.8)')\n",
        "plt.xlabel('Epochs')\n",
        "plt.ylabel('Validation loss')\n",
        "plt.legend()\n",
        "\n",
        "plt.show()"
      ],
      "execution_count": 39,
      "outputs": [
        {
          "output_type": "display_data",
          "data": {
            "image/png": "[encoded data removed]",
            "text/plain": [
              "<Figure size 432x288 with 1 Axes>"
            ]
          },
          "metadata": {
            "tags": []
          }
        }
      ]
    },
    {
      "cell_type": "markdown",
      "metadata": {
        "id": "SPW5d5B3933X",
        "colab_type": "text"
      },
      "source": [
        "Now we train a final version of the model (with both dropout and L2 regularization), validate to find optimal number of epochs, and test against the test data."
      ]
    },
    {
      "cell_type": "code",
      "metadata": {
        "id": "XYXyme3B91aG",
        "colab_type": "code",
        "colab": {}
      },
      "source": [
        "#Using .5 dropout rate and L2 regularization\n",
        "final_model = models.Sequential()\n",
        "final_model.add(layers.Dense(16, kernel_regularizer=regularizers.l2(0.001), activation='relu', input_shape=(max_words,)))\n",
        "final_model.add(layers.Dropout(.5))\n",
        "final_model.add(layers.Dense(16, kernel_regularizer=regularizers.l2(0.001), activation='relu'))\n",
        "final_model.add(layers.Dropout(.5))\n",
        "final_model.add(layers.Dense(1, activation='sigmoid'))\n",
        "\n",
        "final_model.compile(optimizer='rmsprop',\n",
        "                       loss='binary_crossentropy',\n",
        "                       metrics=['acc'])"
      ],
      "execution_count": 0,
      "outputs": []
    },
    {
      "cell_type": "code",
      "metadata": {
        "id": "FLSGmETg7pTT",
        "colab_type": "code",
        "colab": {
          "base_uri": "https://localhost:8080/",
          "height": 734
        },
        "outputId": "a22630bb-9893-4fe9-a5ee-8ae86b5255fe"
      },
      "source": [
        "#Train model for 20 epochs\n",
        "final_model_hist = final_model.fit(x_train, y_train,\n",
        "                               epochs=20,\n",
        "                               batch_size=512,\n",
        "                               validation_data=(x_val, y_val))"
      ],
      "execution_count": 41,
      "outputs": [
        {
          "output_type": "stream",
          "text": [
            "Train on 25000 samples, validate on 10000 samples\n",
            "Epoch 1/20\n",
            "25000/25000 [==============================] - 6s 224us/step - loss: 0.6322 - acc: 0.6785 - val_loss: 0.4693 - val_acc: 0.8829\n",
            "Epoch 2/20\n",
            "25000/25000 [==============================] - 4s 149us/step - loss: 0.4813 - acc: 0.8137 - val_loss: 0.3374 - val_acc: 0.9055\n",
            "Epoch 3/20\n",
            "25000/25000 [==============================] - 4s 150us/step - loss: 0.3994 - acc: 0.8638 - val_loss: 0.2803 - val_acc: 0.9221\n",
            "Epoch 4/20\n",
            "25000/25000 [==============================] - 4s 149us/step - loss: 0.3526 - acc: 0.8859 - val_loss: 0.2444 - val_acc: 0.9353\n",
            "Epoch 5/20\n",
            "25000/25000 [==============================] - 4s 150us/step - loss: 0.3233 - acc: 0.9014 - val_loss: 0.2262 - val_acc: 0.9412\n",
            "Epoch 6/20\n",
            "25000/25000 [==============================] - 4s 149us/step - loss: 0.3048 - acc: 0.9111 - val_loss: 0.2129 - val_acc: 0.9477\n",
            "Epoch 7/20\n",
            "25000/25000 [==============================] - 4s 149us/step - loss: 0.2899 - acc: 0.9190 - val_loss: 0.2036 - val_acc: 0.9545\n",
            "Epoch 8/20\n",
            "25000/25000 [==============================] - 4s 148us/step - loss: 0.2759 - acc: 0.9246 - val_loss: 0.2040 - val_acc: 0.9512\n",
            "Epoch 9/20\n",
            "25000/25000 [==============================] - 4s 150us/step - loss: 0.2721 - acc: 0.9275 - val_loss: 0.1934 - val_acc: 0.9591\n",
            "Epoch 10/20\n",
            "25000/25000 [==============================] - 4s 151us/step - loss: 0.2614 - acc: 0.9284 - val_loss: 0.1830 - val_acc: 0.9638\n",
            "Epoch 11/20\n",
            "25000/25000 [==============================] - 4s 153us/step - loss: 0.2511 - acc: 0.9336 - val_loss: 0.1828 - val_acc: 0.9681\n",
            "Epoch 12/20\n",
            "25000/25000 [==============================] - 4s 152us/step - loss: 0.2525 - acc: 0.9338 - val_loss: 0.1750 - val_acc: 0.9688\n",
            "Epoch 13/20\n",
            "25000/25000 [==============================] - 4s 155us/step - loss: 0.2438 - acc: 0.9361 - val_loss: 0.1737 - val_acc: 0.9652\n",
            "Epoch 14/20\n",
            "25000/25000 [==============================] - 4s 153us/step - loss: 0.2394 - acc: 0.9377 - val_loss: 0.1812 - val_acc: 0.9616\n",
            "Epoch 15/20\n",
            "25000/25000 [==============================] - 4s 151us/step - loss: 0.2443 - acc: 0.9351 - val_loss: 0.1674 - val_acc: 0.9701\n",
            "Epoch 16/20\n",
            "25000/25000 [==============================] - 4s 150us/step - loss: 0.2361 - acc: 0.9363 - val_loss: 0.1640 - val_acc: 0.9732\n",
            "Epoch 17/20\n",
            "25000/25000 [==============================] - 4s 151us/step - loss: 0.2348 - acc: 0.9385 - val_loss: 0.1761 - val_acc: 0.9665\n",
            "Epoch 18/20\n",
            "25000/25000 [==============================] - 4s 149us/step - loss: 0.2347 - acc: 0.9387 - val_loss: 0.1621 - val_acc: 0.9727\n",
            "Epoch 19/20\n",
            "25000/25000 [==============================] - 4s 149us/step - loss: 0.2345 - acc: 0.9392 - val_loss: 0.1583 - val_acc: 0.9725\n",
            "Epoch 20/20\n",
            "25000/25000 [==============================] - 4s 150us/step - loss: 0.2296 - acc: 0.9397 - val_loss: 0.1540 - val_acc: 0.9745\n"
          ],
          "name": "stdout"
        }
      ]
    },
    {
      "cell_type": "code",
      "metadata": {
        "id": "a6XVgosiAenr",
        "colab_type": "code",
        "colab": {
          "base_uri": "https://localhost:8080/",
          "height": 283
        },
        "outputId": "80eeff95-aa74-4d17-ded4-d17795426114"
      },
      "source": [
        "#Compare validation loss against original model\n",
        "final_model_val_loss = final_model_hist.history['val_loss']\n",
        "\n",
        "plt.plot(epochs, original_val_loss, 'b+', label='Original model')\n",
        "plt.plot(epochs, final_model_val_loss, 'bx', label='Final model')\n",
        "plt.xlabel('Epochs')\n",
        "plt.ylabel('Validation loss')\n",
        "plt.legend()\n",
        "\n",
        "plt.show()"
      ],
      "execution_count": 42,
      "outputs": [
        {
          "output_type": "display_data",
          "data": {
            "image/png": "[encoded data removed]",
            "text/plain": [
              "<Figure size 432x288 with 1 Axes>"
            ]
          },
          "metadata": {
            "tags": []
          }
        }
      ]
    },
    {
      "cell_type": "code",
      "metadata": {
        "id": "UftpAiA4_bU2",
        "colab_type": "code",
        "colab": {
          "base_uri": "https://localhost:8080/",
          "height": 238
        },
        "outputId": "3c7ec95b-f9b5-4b03-d004-543f0c86df81"
      },
      "source": [
        "#Retrain final and original models to optimal number of epochs\n",
        "model.fit(x_train, y_train, epochs=3, batch_size=512)\n",
        "final_model.fit(x_train, y_train, epochs=3, batch_size=512)"
      ],
      "execution_count": 47,
      "outputs": [
        {
          "output_type": "stream",
          "text": [
            "Epoch 1/3\n",
            "25000/25000 [==============================] - 3s 131us/step - loss: 0.0090 - acc: 0.9977\n",
            "Epoch 2/3\n",
            "25000/25000 [==============================] - 3s 119us/step - loss: 0.0064 - acc: 0.9981\n",
            "Epoch 3/3\n",
            "25000/25000 [==============================] - 3s 117us/step - loss: 0.0014 - acc: 1.0000\n",
            "Epoch 1/3\n",
            "25000/25000 [==============================] - 3s 120us/step - loss: 0.2243 - acc: 0.9414\n",
            "Epoch 2/3\n",
            "25000/25000 [==============================] - 3s 121us/step - loss: 0.2251 - acc: 0.9418\n",
            "Epoch 3/3\n",
            "25000/25000 [==============================] - 3s 118us/step - loss: 0.2272 - acc: 0.9412\n"
          ],
          "name": "stdout"
        },
        {
          "output_type": "execute_result",
          "data": {
            "text/plain": [
              "<keras.callbacks.History at 0x7fd96a227208>"
            ]
          },
          "metadata": {
            "tags": []
          },
          "execution_count": 47
        }
      ]
    },
    {
      "cell_type": "code",
      "metadata": {
        "id": "EidWwFdW_jJM",
        "colab_type": "code",
        "colab": {
          "base_uri": "https://localhost:8080/",
          "height": 85
        },
        "outputId": "7be4bc18-d17b-4f96-8b97-e094cd2e0526"
      },
      "source": [
        "#Compare test data\n",
        "original_results = model.evaluate(x_test, y_test)\n",
        "final_results = final_model.evaluate(x_test, y_test)\n",
        "\n",
        "print(\"Original model:\", original_results)\n",
        "print(\"Final model:\", final_results)"
      ],
      "execution_count": 48,
      "outputs": [
        {
          "output_type": "stream",
          "text": [
            "25000/25000 [==============================] - 2s 86us/step\n",
            "25000/25000 [==============================] - 2s 99us/step\n",
            "Original model: [1.1759914930176736, 0.84204]\n",
            "Final model: [0.47480856528282167, 0.8742]\n"
          ],
          "name": "stdout"
        }
      ]
    }
  ]
}